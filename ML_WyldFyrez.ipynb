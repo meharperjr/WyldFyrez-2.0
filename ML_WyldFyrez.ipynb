{
 "cells": [
  {
   "cell_type": "markdown",
   "metadata": {},
   "source": [
    "## Importing Data, Feature Selection, and Cleaning"
   ]
  },
  {
   "cell_type": "code",
   "execution_count": 61,
   "metadata": {},
   "outputs": [],
   "source": [
    "# For this ipynb we will be running ML algorithms to see what the associations are between variables recorded for wildfires,\n",
    "# using wildfire data from 1992 to 2015. Added to the data set retrieved from !<website for fire data here>! is weather data\n",
    "# from !<website weather here>! to include average, min, max and precipitation data.\n",
    "\n",
    "# Start by importing dependencies and libraries\n",
    "import matplotlib.pyplot as plt\n",
    "import numpy as np\n",
    "import pandas as pd\n",
    "\n",
    "\n"
   ]
  },
  {
   "cell_type": "code",
   "execution_count": 62,
   "metadata": {},
   "outputs": [
    {
     "data": {
      "text/html": [
       "<div>\n",
       "<style scoped>\n",
       "    .dataframe tbody tr th:only-of-type {\n",
       "        vertical-align: middle;\n",
       "    }\n",
       "\n",
       "    .dataframe tbody tr th {\n",
       "        vertical-align: top;\n",
       "    }\n",
       "\n",
       "    .dataframe thead th {\n",
       "        text-align: right;\n",
       "    }\n",
       "</style>\n",
       "<table border=\"1\" class=\"dataframe\">\n",
       "  <thead>\n",
       "    <tr style=\"text-align: right;\">\n",
       "      <th></th>\n",
       "      <th>OBJECTID</th>\n",
       "      <th>SOURCE_REPORTING_UNIT_NAME</th>\n",
       "      <th>FIRE_NAME</th>\n",
       "      <th>FIRE_YEAR</th>\n",
       "      <th>DISCOVERY_DATE</th>\n",
       "      <th>MONTH</th>\n",
       "      <th>YEAR_MONTH</th>\n",
       "      <th>STAT_CAUSE_DESCR</th>\n",
       "      <th>CONT_DATE</th>\n",
       "      <th>FIRE_SIZE</th>\n",
       "      <th>FIRE_SIZE_CLASS</th>\n",
       "      <th>LATITUDE</th>\n",
       "      <th>LONGITUDE</th>\n",
       "      <th>STATE</th>\n",
       "      <th>COUNTY</th>\n",
       "      <th>Join_code</th>\n",
       "      <th>Month_Precipitation</th>\n",
       "      <th>Month_avg_temp</th>\n",
       "      <th>month_max_temp</th>\n",
       "      <th>month_min_temp</th>\n",
       "    </tr>\n",
       "  </thead>\n",
       "  <tbody>\n",
       "    <tr>\n",
       "      <th>0</th>\n",
       "      <td>1182886</td>\n",
       "      <td>Chattahoochee-Oconee National Forest</td>\n",
       "      <td>ROCK CLIMBING FIRE</td>\n",
       "      <td>2010</td>\n",
       "      <td>2010-12-08T00:00:00.000Z</td>\n",
       "      <td>12</td>\n",
       "      <td>201012</td>\n",
       "      <td>Arson</td>\n",
       "      <td>2010-12-08T00:00:00.000Z</td>\n",
       "      <td>0.25</td>\n",
       "      <td>A</td>\n",
       "      <td>34.646389</td>\n",
       "      <td>-83.963611</td>\n",
       "      <td>GA</td>\n",
       "      <td>187</td>\n",
       "      <td>GA201012</td>\n",
       "      <td>2.27</td>\n",
       "      <td>39.9</td>\n",
       "      <td>51.5</td>\n",
       "      <td>28.3</td>\n",
       "    </tr>\n",
       "    <tr>\n",
       "      <th>1</th>\n",
       "      <td>1201922</td>\n",
       "      <td>GAS Oconee District</td>\n",
       "      <td>NaN</td>\n",
       "      <td>2010</td>\n",
       "      <td>2010-12-14T00:00:00.000Z</td>\n",
       "      <td>12</td>\n",
       "      <td>201012</td>\n",
       "      <td>Debris Burning</td>\n",
       "      <td>NaN</td>\n",
       "      <td>1.00</td>\n",
       "      <td>B</td>\n",
       "      <td>33.002479</td>\n",
       "      <td>-83.066761</td>\n",
       "      <td>GA</td>\n",
       "      <td>Baldwin</td>\n",
       "      <td>GA201012</td>\n",
       "      <td>2.27</td>\n",
       "      <td>39.9</td>\n",
       "      <td>51.5</td>\n",
       "      <td>28.3</td>\n",
       "    </tr>\n",
       "    <tr>\n",
       "      <th>2</th>\n",
       "      <td>1201923</td>\n",
       "      <td>GAS Oconee District</td>\n",
       "      <td>NaN</td>\n",
       "      <td>2010</td>\n",
       "      <td>2010-12-16T00:00:00.000Z</td>\n",
       "      <td>12</td>\n",
       "      <td>201012</td>\n",
       "      <td>Miscellaneous</td>\n",
       "      <td>NaN</td>\n",
       "      <td>2.06</td>\n",
       "      <td>B</td>\n",
       "      <td>33.012973</td>\n",
       "      <td>-83.345341</td>\n",
       "      <td>GA</td>\n",
       "      <td>Baldwin</td>\n",
       "      <td>GA201012</td>\n",
       "      <td>2.27</td>\n",
       "      <td>39.9</td>\n",
       "      <td>51.5</td>\n",
       "      <td>28.3</td>\n",
       "    </tr>\n",
       "    <tr>\n",
       "      <th>3</th>\n",
       "      <td>1201924</td>\n",
       "      <td>GAS Oconee District</td>\n",
       "      <td>NaN</td>\n",
       "      <td>2010</td>\n",
       "      <td>2010-12-23T00:00:00.000Z</td>\n",
       "      <td>12</td>\n",
       "      <td>201012</td>\n",
       "      <td>Debris Burning</td>\n",
       "      <td>NaN</td>\n",
       "      <td>7.20</td>\n",
       "      <td>B</td>\n",
       "      <td>33.048480</td>\n",
       "      <td>-83.371733</td>\n",
       "      <td>GA</td>\n",
       "      <td>Baldwin</td>\n",
       "      <td>GA201012</td>\n",
       "      <td>2.27</td>\n",
       "      <td>39.9</td>\n",
       "      <td>51.5</td>\n",
       "      <td>28.3</td>\n",
       "    </tr>\n",
       "    <tr>\n",
       "      <th>4</th>\n",
       "      <td>1201925</td>\n",
       "      <td>GAS Oconee District</td>\n",
       "      <td>NaN</td>\n",
       "      <td>2010</td>\n",
       "      <td>2010-12-31T00:00:00.000Z</td>\n",
       "      <td>12</td>\n",
       "      <td>201012</td>\n",
       "      <td>Children</td>\n",
       "      <td>NaN</td>\n",
       "      <td>5.00</td>\n",
       "      <td>B</td>\n",
       "      <td>32.982684</td>\n",
       "      <td>-83.181268</td>\n",
       "      <td>GA</td>\n",
       "      <td>Baldwin</td>\n",
       "      <td>GA201012</td>\n",
       "      <td>2.27</td>\n",
       "      <td>39.9</td>\n",
       "      <td>51.5</td>\n",
       "      <td>28.3</td>\n",
       "    </tr>\n",
       "  </tbody>\n",
       "</table>\n",
       "</div>"
      ],
      "text/plain": [
       "   OBJECTID            SOURCE_REPORTING_UNIT_NAME           FIRE_NAME  \\\n",
       "0   1182886  Chattahoochee-Oconee National Forest  ROCK CLIMBING FIRE   \n",
       "1   1201922                   GAS Oconee District                 NaN   \n",
       "2   1201923                   GAS Oconee District                 NaN   \n",
       "3   1201924                   GAS Oconee District                 NaN   \n",
       "4   1201925                   GAS Oconee District                 NaN   \n",
       "\n",
       "   FIRE_YEAR            DISCOVERY_DATE  MONTH  YEAR_MONTH STAT_CAUSE_DESCR  \\\n",
       "0       2010  2010-12-08T00:00:00.000Z     12      201012            Arson   \n",
       "1       2010  2010-12-14T00:00:00.000Z     12      201012   Debris Burning   \n",
       "2       2010  2010-12-16T00:00:00.000Z     12      201012    Miscellaneous   \n",
       "3       2010  2010-12-23T00:00:00.000Z     12      201012   Debris Burning   \n",
       "4       2010  2010-12-31T00:00:00.000Z     12      201012         Children   \n",
       "\n",
       "                  CONT_DATE  FIRE_SIZE FIRE_SIZE_CLASS   LATITUDE  LONGITUDE  \\\n",
       "0  2010-12-08T00:00:00.000Z       0.25               A  34.646389 -83.963611   \n",
       "1                       NaN       1.00               B  33.002479 -83.066761   \n",
       "2                       NaN       2.06               B  33.012973 -83.345341   \n",
       "3                       NaN       7.20               B  33.048480 -83.371733   \n",
       "4                       NaN       5.00               B  32.982684 -83.181268   \n",
       "\n",
       "  STATE   COUNTY Join_code  Month_Precipitation  Month_avg_temp  \\\n",
       "0    GA      187  GA201012                 2.27            39.9   \n",
       "1    GA  Baldwin  GA201012                 2.27            39.9   \n",
       "2    GA  Baldwin  GA201012                 2.27            39.9   \n",
       "3    GA  Baldwin  GA201012                 2.27            39.9   \n",
       "4    GA  Baldwin  GA201012                 2.27            39.9   \n",
       "\n",
       "   month_max_temp  month_min_temp  \n",
       "0            51.5            28.3  \n",
       "1            51.5            28.3  \n",
       "2            51.5            28.3  \n",
       "3            51.5            28.3  \n",
       "4            51.5            28.3  "
      ]
     },
     "execution_count": 62,
     "metadata": {},
     "output_type": "execute_result"
    }
   ],
   "source": [
    "# import the dataset for testing\n",
    "dataset_file = \"resources/CA_GA_filtered_fires.csv\"\n",
    "df = pd.read_csv(dataset_file)\n",
    "df.head()"
   ]
  },
  {
   "cell_type": "code",
   "execution_count": 63,
   "metadata": {},
   "outputs": [
    {
     "data": {
      "text/html": [
       "<div>\n",
       "<style scoped>\n",
       "    .dataframe tbody tr th:only-of-type {\n",
       "        vertical-align: middle;\n",
       "    }\n",
       "\n",
       "    .dataframe tbody tr th {\n",
       "        vertical-align: top;\n",
       "    }\n",
       "\n",
       "    .dataframe thead th {\n",
       "        text-align: right;\n",
       "    }\n",
       "</style>\n",
       "<table border=\"1\" class=\"dataframe\">\n",
       "  <thead>\n",
       "    <tr style=\"text-align: right;\">\n",
       "      <th></th>\n",
       "      <th>FIRE_SIZE_CLASS</th>\n",
       "      <th>STATE</th>\n",
       "      <th>YEAR_MONTH</th>\n",
       "      <th>Month_avg_temp</th>\n",
       "      <th>month_max_temp</th>\n",
       "      <th>month_min_temp</th>\n",
       "      <th>STAT_CAUSE_DESCR</th>\n",
       "    </tr>\n",
       "  </thead>\n",
       "  <tbody>\n",
       "    <tr>\n",
       "      <th>0</th>\n",
       "      <td>A</td>\n",
       "      <td>GA</td>\n",
       "      <td>201012</td>\n",
       "      <td>39.9</td>\n",
       "      <td>51.5</td>\n",
       "      <td>28.3</td>\n",
       "      <td>Arson</td>\n",
       "    </tr>\n",
       "    <tr>\n",
       "      <th>1</th>\n",
       "      <td>B</td>\n",
       "      <td>GA</td>\n",
       "      <td>201012</td>\n",
       "      <td>39.9</td>\n",
       "      <td>51.5</td>\n",
       "      <td>28.3</td>\n",
       "      <td>Debris Burning</td>\n",
       "    </tr>\n",
       "    <tr>\n",
       "      <th>2</th>\n",
       "      <td>B</td>\n",
       "      <td>GA</td>\n",
       "      <td>201012</td>\n",
       "      <td>39.9</td>\n",
       "      <td>51.5</td>\n",
       "      <td>28.3</td>\n",
       "      <td>Miscellaneous</td>\n",
       "    </tr>\n",
       "    <tr>\n",
       "      <th>3</th>\n",
       "      <td>B</td>\n",
       "      <td>GA</td>\n",
       "      <td>201012</td>\n",
       "      <td>39.9</td>\n",
       "      <td>51.5</td>\n",
       "      <td>28.3</td>\n",
       "      <td>Debris Burning</td>\n",
       "    </tr>\n",
       "    <tr>\n",
       "      <th>4</th>\n",
       "      <td>B</td>\n",
       "      <td>GA</td>\n",
       "      <td>201012</td>\n",
       "      <td>39.9</td>\n",
       "      <td>51.5</td>\n",
       "      <td>28.3</td>\n",
       "      <td>Children</td>\n",
       "    </tr>\n",
       "  </tbody>\n",
       "</table>\n",
       "</div>"
      ],
      "text/plain": [
       "  FIRE_SIZE_CLASS STATE  YEAR_MONTH  Month_avg_temp  month_max_temp  \\\n",
       "0               A    GA      201012            39.9            51.5   \n",
       "1               B    GA      201012            39.9            51.5   \n",
       "2               B    GA      201012            39.9            51.5   \n",
       "3               B    GA      201012            39.9            51.5   \n",
       "4               B    GA      201012            39.9            51.5   \n",
       "\n",
       "   month_min_temp STAT_CAUSE_DESCR  \n",
       "0            28.3            Arson  \n",
       "1            28.3   Debris Burning  \n",
       "2            28.3    Miscellaneous  \n",
       "3            28.3   Debris Burning  \n",
       "4            28.3         Children  "
      ]
     },
     "execution_count": 63,
     "metadata": {},
     "output_type": "execute_result"
    }
   ],
   "source": [
    "# Create a new df with selected values for each given test\n",
    "# Need to create dataframes for each given category we want to test\n",
    "\n",
    "# fire cause\n",
    "df_fire_cause = df[[\"FIRE_SIZE\", \"STATE\", \"YEAR_MONTH\", \"Month_avg_temp\", \"month_max_temp\", \"month_min_temp\", \"STAT_CAUSE_DESCR\"]]\n",
    "#df_fire_cause.head()\n",
    "\n",
    "# fire class size df\n",
    "df_fire_class_size = df[[\"FIRE_SIZE_CLASS\", \"STATE\", \"YEAR_MONTH\", \"Month_avg_temp\", \"month_max_temp\", \"month_min_temp\", \"STAT_CAUSE_DESCR\"]]\n",
    "df_fire_class_size.head()"
   ]
  },
  {
   "cell_type": "code",
   "execution_count": 77,
   "metadata": {},
   "outputs": [
    {
     "name": "stdout",
     "output_type": "stream",
     "text": [
      "          YEAR_MONTH  Month_avg_temp  month_max_temp  month_min_temp\n",
      "count  231483.000000   231483.000000   231483.000000   231483.000000\n",
      "mean   200393.849622       66.286181       79.906949       52.653454\n",
      "std       651.756338       10.341108       11.379830        9.441630\n",
      "min    199201.000000       39.900000       49.300000       28.300000\n",
      "25%    199809.000000       58.500000       71.100000       45.600000\n",
      "50%    200510.000000       69.500000       84.300000       55.400000\n",
      "75%    200907.000000       74.700000       89.000000       60.000000\n",
      "max    201501.000000       83.200000       94.700000       72.600000\n",
      "------\n",
      "           FIRE_SIZE     YEAR_MONTH  Month_avg_temp  month_max_temp  \\\n",
      "count  231483.000000  231483.000000   231483.000000   231483.000000   \n",
      "mean       52.832328  200393.849622       66.286181       79.906949   \n",
      "std      1909.806174     651.756338       10.341108       11.379830   \n",
      "min         0.001000  199201.000000       39.900000       49.300000   \n",
      "25%         0.100000  199809.000000       58.500000       71.100000   \n",
      "50%         0.300000  200510.000000       69.500000       84.300000   \n",
      "75%         1.500000  200907.000000       74.700000       89.000000   \n",
      "max    315578.800000  201501.000000       83.200000       94.700000   \n",
      "\n",
      "       month_min_temp  \n",
      "count   231483.000000  \n",
      "mean        52.653454  \n",
      "std          9.441630  \n",
      "min         28.300000  \n",
      "25%         45.600000  \n",
      "50%         55.400000  \n",
      "75%         60.000000  \n",
      "max         72.600000  \n"
     ]
    }
   ],
   "source": [
    "# Drop null values\n",
    "df_fire_cause = df_fire_cause.dropna()\n",
    "df_fire_class_size = df_fire_class_size.dropna()\n",
    "df_fire_cause = df_fire_cause[df_fire_cause['STAT_CAUSE_DESCR'] != 'Missing/Undefined']\n",
    "df_fire_class_size = df_fire_class_size[df_fire_class_size['STAT_CAUSE_DESCR'] != 'Missing/Undefined']\n",
    "print(df_fire_class_size.describe())\n",
    "print(\"------\")\n",
    "print(df_fire_cause.describe())\n"
   ]
  },
  {
   "cell_type": "code",
   "execution_count": 1,
   "metadata": {},
   "outputs": [],
   "source": [
    "# # Create a new df with selected values for each given test\n",
    "# # Need to create dataframes for each given category we want to test\n",
    "\n",
    "# # fire cause\n",
    "# df_fire_cause = df_clean[[\"FIRE_SIZE\", \"STATE\", \"YEAR_MONTH\", \"Month_avg_temp\", \"Month_avg_temp\", \"month_max_temp\", \"month_min_temp\", \"STAT_CAUSE_DESCR\"]]\n",
    "# #df_fire_cause.head()\n",
    "\n",
    "# # fire class size df\n",
    "# df_fire_class_size = df_clean[[\"FIRE_SIZE_CLASS\", \"STATE\", \"YEAR_MONTH\", \"Month_avg_temp\", \"Month_avg_temp\", \"month_max_temp\", \"month_min_temp\", \"STAT_CAUSE_DESCR\"]]\n",
    "# df_fire_class_size.head()\n",
    "\n",
    "#### Changed order of operations to see if we get more usable data. Reason: Goes from 300k+ \n",
    "#### datapoints down to 46k datapoints if dropna() is used before subsetting the 2 datasets"
   ]
  },
  {
   "cell_type": "code",
   "execution_count": 78,
   "metadata": {},
   "outputs": [
    {
     "data": {
      "text/plain": [
       "Index(['FIRE_SIZE', 'STATE', 'YEAR_MONTH', 'Month_avg_temp', 'month_max_temp',\n",
       "       'month_min_temp'],\n",
       "      dtype='object')"
      ]
     },
     "execution_count": 78,
     "metadata": {},
     "output_type": "execute_result"
    }
   ],
   "source": [
    "# # Some columns are not numbers, we will need to dummy a few columns\n",
    "# # \"dbe\" will stand for \"Data_binary_encoded\" as we replace specific categories of text with numbers to stand in for the text\n",
    "\n",
    "# # make a copy of the two datasets (df_fire_class_size and df_fire_cause) so as to not change the underlying dfs \n",
    "# # Fire cause data is \"dataset_1\"\n",
    "# dataset_1 = df_fire_cause.copy()\n",
    "\n",
    "# # Fire class data is \"dataset_2\"\n",
    "# dataset_2 = df_fire_class_size.copy()\n",
    "\n",
    "# dbe_cause = pd.get_dummies(dataset_1, columns=[\"STATE\", \"STAT_CAUSE_DESCR\"])\n",
    "# dbe_class = pd.get_dummies(dataset_2, columns=[\"FIRE_SIZE_CLASS\", \"STATE\", \"STAT_CAUSE_DESCR\"])\n",
    "# dbe_class.columns\n",
    "\n",
    "# ignore above ^^^\n",
    "\n",
    "# fire cause\n",
    "X = df_fire_cause.drop(\"STAT_CAUSE_DESCR\", axis=1)\n",
    "y = df_fire_cause[\"STAT_CAUSE_DESCR\"]\n",
    "X.columns"
   ]
  },
  {
   "cell_type": "markdown",
   "metadata": {},
   "source": [
    "## Splitting Data"
   ]
  },
  {
   "cell_type": "code",
   "execution_count": 79,
   "metadata": {},
   "outputs": [],
   "source": [
    "# Label encoder will change our \"y\" variable from text to numbers to that DL will work on the data\n",
    "from sklearn.model_selection import train_test_split\n",
    "from sklearn.preprocessing import LabelEncoder, MinMaxScaler\n",
    "from tensorflow.keras.utils import to_categorical"
   ]
  },
  {
   "cell_type": "code",
   "execution_count": 80,
   "metadata": {},
   "outputs": [],
   "source": [
    "X = pd.get_dummies(X, columns=[\"STATE\"])"
   ]
  },
  {
   "cell_type": "code",
   "execution_count": 81,
   "metadata": {},
   "outputs": [],
   "source": [
    "X_train, X_test, y_train, y_test = train_test_split(X, y, random_state=1, stratify=y)\n",
    "\n"
   ]
  },
  {
   "cell_type": "markdown",
   "metadata": {
    "scrolled": true
   },
   "source": [
    "## Scaling Data"
   ]
  },
  {
   "cell_type": "code",
   "execution_count": 82,
   "metadata": {},
   "outputs": [
    {
     "name": "stderr",
     "output_type": "stream",
     "text": [
      "C:\\ProgramData\\Anaconda3\\envs\\Pythondata\\lib\\site-packages\\sklearn\\preprocessing\\data.py:334: DataConversionWarning: Data with input dtype uint8, int64, float64 were all converted to float64 by MinMaxScaler.\n",
      "  return self.partial_fit(X, y)\n"
     ]
    }
   ],
   "source": [
    "X_scaler = MinMaxScaler().fit(X_train)\n",
    "X_train_scaled = X_scaler.transform(X_train)\n",
    "X_test_scaled = X_scaler.transform(X_test)"
   ]
  },
  {
   "cell_type": "code",
   "execution_count": 83,
   "metadata": {},
   "outputs": [],
   "source": [
    "label_encoder = LabelEncoder()\n",
    "label_encoder.fit(y_train)\n",
    "encoded_y_train = label_encoder.transform(y_train)\n",
    "encoded_y_test = label_encoder.transform(y_test)"
   ]
  },
  {
   "cell_type": "markdown",
   "metadata": {},
   "source": [
    "## Determining Proportions of the Training and Test Data"
   ]
  },
  {
   "cell_type": "code",
   "execution_count": 84,
   "metadata": {},
   "outputs": [
    {
     "name": "stdout",
     "output_type": "stream",
     "text": [
      "Training: [12.04813031  4.81303136  4.02506739 19.45430039 19.25385342  0.09043154\n",
      " 12.53023985 23.53351151  0.51321337  0.61631684  3.06948828  0.05241573]\n",
      "Test: [12.04748492  4.81242764  4.02446821 19.45361234 19.25489451  0.08985502\n",
      " 12.52959168 23.53510394  0.51321042  0.61688929  3.06889461  0.05356742]\n"
     ]
    }
   ],
   "source": [
    "#print('All:', np.bincount(y_train) / float(len(y_train)) * 100.0)\n",
    "print('Training:', np.bincount(encoded_y_train) / float(len(encoded_y_train)) * 100.0)\n",
    "print('Test:', np.bincount(encoded_y_test) / float(len(encoded_y_test)) * 100.0)"
   ]
  },
  {
   "cell_type": "code",
   "execution_count": 85,
   "metadata": {},
   "outputs": [
    {
     "name": "stdout",
     "output_type": "stream",
     "text": [
      "[[0. 0. 0. ... 0. 0. 0.]\n",
      " [0. 0. 0. ... 0. 0. 0.]\n",
      " [0. 0. 0. ... 0. 0. 0.]\n",
      " ...\n",
      " [1. 0. 0. ... 0. 0. 0.]\n",
      " [1. 0. 0. ... 0. 0. 0.]\n",
      " [0. 0. 0. ... 0. 0. 0.]]\n",
      "[[0. 0. 0. ... 0. 0. 0.]\n",
      " [0. 0. 0. ... 0. 0. 0.]\n",
      " [0. 0. 0. ... 0. 0. 0.]\n",
      " ...\n",
      " [0. 0. 1. ... 0. 0. 0.]\n",
      " [0. 0. 0. ... 0. 0. 0.]\n",
      " [0. 0. 0. ... 0. 0. 0.]]\n"
     ]
    }
   ],
   "source": [
    "y_train_categorical = to_categorical(encoded_y_train)\n",
    "y_test_categorical = to_categorical(encoded_y_test)\n",
    "print(y_train_categorical)\n",
    "print(y_test_categorical)"
   ]
  },
  {
   "cell_type": "markdown",
   "metadata": {},
   "source": [
    "## Attempting to Plot a scatter matrix, currently failing"
   ]
  },
  {
   "cell_type": "code",
   "execution_count": 87,
   "metadata": {},
   "outputs": [],
   "source": [
    "%matplotlib inline\n",
    "import matplotlib.pyplot as plt"
   ]
  },
  {
   "cell_type": "code",
   "execution_count": 88,
   "metadata": {},
   "outputs": [
    {
     "ename": "ValueError",
     "evalue": "'c' argument must either be valid as mpl color(s) or as numbers to be mapped to colors. Here c = 0                  Arson\n1         Debris Burning\n2          Miscellaneous\n3         Debris Burning\n4               Children\n5               Children\n6         Debris Burning\n7                  Arson\n8         Debris Burning\n9               Campfire\n10        Debris Burning\n11        Debris Burning\n12         Miscellaneous\n13        Debris Burning\n14        Debris Burning\n15        Debris Burning\n16        Debris Burning\n17         Miscellaneous\n18         Miscellaneous\n19        Debris Burning\n20        Debris Burning\n21        Debris Burning\n22         Miscellaneous\n23        Debris Burning\n24        Debris Burning\n25              Campfire\n26        Debris Burning\n27         Miscellaneous\n28               Smoking\n29        Debris Burning\n               ...      \n344756     Miscellaneous\n344757    Debris Burning\n344758          Campfire\n344759    Debris Burning\n344760    Debris Burning\n344761             Arson\n344762             Arson\n344763     Miscellaneous\n344764     Miscellaneous\n344765     Miscellaneous\n344766     Miscellaneous\n344767    Debris Burning\n344768     Equipment Use\n344769             Arson\n344770     Equipment Use\n344771     Equipment Use\n344772     Equipment Use\n344773    Debris Burning\n344774    Debris Burning\n344775     Equipment Use\n344776          Campfire\n344777    Debris Burning\n344778     Equipment Use\n344779           Smoking\n344780    Debris Burning\n344781     Miscellaneous\n344782             Arson\n344783     Equipment Use\n344784          Campfire\n344785     Equipment Use\nName: STAT_CAUSE_DESCR, Length: 231483, dtype: object.",
     "output_type": "error",
     "traceback": [
      "\u001b[1;31m---------------------------------------------------------------------------\u001b[0m",
      "\u001b[1;31mKeyError\u001b[0m                                  Traceback (most recent call last)",
      "\u001b[1;32mC:\\ProgramData\\Anaconda3\\envs\\Pythondata\\lib\\site-packages\\matplotlib\\colors.py\u001b[0m in \u001b[0;36mto_rgba\u001b[1;34m(c, alpha)\u001b[0m\n\u001b[0;32m    173\u001b[0m     \u001b[1;32mtry\u001b[0m\u001b[1;33m:\u001b[0m\u001b[1;33m\u001b[0m\u001b[1;33m\u001b[0m\u001b[0m\n\u001b[1;32m--> 174\u001b[1;33m         \u001b[0mrgba\u001b[0m \u001b[1;33m=\u001b[0m \u001b[0m_colors_full_map\u001b[0m\u001b[1;33m.\u001b[0m\u001b[0mcache\u001b[0m\u001b[1;33m[\u001b[0m\u001b[0mc\u001b[0m\u001b[1;33m,\u001b[0m \u001b[0malpha\u001b[0m\u001b[1;33m]\u001b[0m\u001b[1;33m\u001b[0m\u001b[1;33m\u001b[0m\u001b[0m\n\u001b[0m\u001b[0;32m    175\u001b[0m     \u001b[1;32mexcept\u001b[0m \u001b[1;33m(\u001b[0m\u001b[0mKeyError\u001b[0m\u001b[1;33m,\u001b[0m \u001b[0mTypeError\u001b[0m\u001b[1;33m)\u001b[0m\u001b[1;33m:\u001b[0m  \u001b[1;31m# Not in cache, or unhashable.\u001b[0m\u001b[1;33m\u001b[0m\u001b[1;33m\u001b[0m\u001b[0m\n",
      "\u001b[1;31mKeyError\u001b[0m: ('Arson', None)",
      "\nDuring handling of the above exception, another exception occurred:\n",
      "\u001b[1;31mValueError\u001b[0m                                Traceback (most recent call last)",
      "\u001b[1;32mC:\\ProgramData\\Anaconda3\\envs\\Pythondata\\lib\\site-packages\\matplotlib\\axes\\_axes.py\u001b[0m in \u001b[0;36mscatter\u001b[1;34m(self, x, y, s, c, marker, cmap, norm, vmin, vmax, alpha, linewidths, verts, edgecolors, **kwargs)\u001b[0m\n\u001b[0;32m   4231\u001b[0m             \u001b[1;32mtry\u001b[0m\u001b[1;33m:\u001b[0m  \u001b[1;31m# Then is 'c' acceptable as PathCollection facecolors?\u001b[0m\u001b[1;33m\u001b[0m\u001b[1;33m\u001b[0m\u001b[0m\n\u001b[1;32m-> 4232\u001b[1;33m                 \u001b[0mcolors\u001b[0m \u001b[1;33m=\u001b[0m \u001b[0mmcolors\u001b[0m\u001b[1;33m.\u001b[0m\u001b[0mto_rgba_array\u001b[0m\u001b[1;33m(\u001b[0m\u001b[0mc\u001b[0m\u001b[1;33m)\u001b[0m\u001b[1;33m\u001b[0m\u001b[1;33m\u001b[0m\u001b[0m\n\u001b[0m\u001b[0;32m   4233\u001b[0m                 \u001b[0mn_elem\u001b[0m \u001b[1;33m=\u001b[0m \u001b[0mcolors\u001b[0m\u001b[1;33m.\u001b[0m\u001b[0mshape\u001b[0m\u001b[1;33m[\u001b[0m\u001b[1;36m0\u001b[0m\u001b[1;33m]\u001b[0m\u001b[1;33m\u001b[0m\u001b[1;33m\u001b[0m\u001b[0m\n",
      "\u001b[1;32mC:\\ProgramData\\Anaconda3\\envs\\Pythondata\\lib\\site-packages\\matplotlib\\colors.py\u001b[0m in \u001b[0;36mto_rgba_array\u001b[1;34m(c, alpha)\u001b[0m\n\u001b[0;32m    274\u001b[0m     \u001b[1;32mfor\u001b[0m \u001b[0mi\u001b[0m\u001b[1;33m,\u001b[0m \u001b[0mcc\u001b[0m \u001b[1;32min\u001b[0m \u001b[0menumerate\u001b[0m\u001b[1;33m(\u001b[0m\u001b[0mc\u001b[0m\u001b[1;33m)\u001b[0m\u001b[1;33m:\u001b[0m\u001b[1;33m\u001b[0m\u001b[1;33m\u001b[0m\u001b[0m\n\u001b[1;32m--> 275\u001b[1;33m         \u001b[0mresult\u001b[0m\u001b[1;33m[\u001b[0m\u001b[0mi\u001b[0m\u001b[1;33m]\u001b[0m \u001b[1;33m=\u001b[0m \u001b[0mto_rgba\u001b[0m\u001b[1;33m(\u001b[0m\u001b[0mcc\u001b[0m\u001b[1;33m,\u001b[0m \u001b[0malpha\u001b[0m\u001b[1;33m)\u001b[0m\u001b[1;33m\u001b[0m\u001b[1;33m\u001b[0m\u001b[0m\n\u001b[0m\u001b[0;32m    276\u001b[0m     \u001b[1;32mreturn\u001b[0m \u001b[0mresult\u001b[0m\u001b[1;33m\u001b[0m\u001b[1;33m\u001b[0m\u001b[0m\n",
      "\u001b[1;32mC:\\ProgramData\\Anaconda3\\envs\\Pythondata\\lib\\site-packages\\matplotlib\\colors.py\u001b[0m in \u001b[0;36mto_rgba\u001b[1;34m(c, alpha)\u001b[0m\n\u001b[0;32m    175\u001b[0m     \u001b[1;32mexcept\u001b[0m \u001b[1;33m(\u001b[0m\u001b[0mKeyError\u001b[0m\u001b[1;33m,\u001b[0m \u001b[0mTypeError\u001b[0m\u001b[1;33m)\u001b[0m\u001b[1;33m:\u001b[0m  \u001b[1;31m# Not in cache, or unhashable.\u001b[0m\u001b[1;33m\u001b[0m\u001b[1;33m\u001b[0m\u001b[0m\n\u001b[1;32m--> 176\u001b[1;33m         \u001b[0mrgba\u001b[0m \u001b[1;33m=\u001b[0m \u001b[0m_to_rgba_no_colorcycle\u001b[0m\u001b[1;33m(\u001b[0m\u001b[0mc\u001b[0m\u001b[1;33m,\u001b[0m \u001b[0malpha\u001b[0m\u001b[1;33m)\u001b[0m\u001b[1;33m\u001b[0m\u001b[1;33m\u001b[0m\u001b[0m\n\u001b[0m\u001b[0;32m    177\u001b[0m         \u001b[1;32mtry\u001b[0m\u001b[1;33m:\u001b[0m\u001b[1;33m\u001b[0m\u001b[1;33m\u001b[0m\u001b[0m\n",
      "\u001b[1;32mC:\\ProgramData\\Anaconda3\\envs\\Pythondata\\lib\\site-packages\\matplotlib\\colors.py\u001b[0m in \u001b[0;36m_to_rgba_no_colorcycle\u001b[1;34m(c, alpha)\u001b[0m\n\u001b[0;32m    219\u001b[0m             \u001b[1;32mpass\u001b[0m\u001b[1;33m\u001b[0m\u001b[1;33m\u001b[0m\u001b[0m\n\u001b[1;32m--> 220\u001b[1;33m         \u001b[1;32mraise\u001b[0m \u001b[0mValueError\u001b[0m\u001b[1;33m(\u001b[0m\u001b[1;34m\"Invalid RGBA argument: {!r}\"\u001b[0m\u001b[1;33m.\u001b[0m\u001b[0mformat\u001b[0m\u001b[1;33m(\u001b[0m\u001b[0morig_c\u001b[0m\u001b[1;33m)\u001b[0m\u001b[1;33m)\u001b[0m\u001b[1;33m\u001b[0m\u001b[1;33m\u001b[0m\u001b[0m\n\u001b[0m\u001b[0;32m    221\u001b[0m     \u001b[1;31m# tuple color.\u001b[0m\u001b[1;33m\u001b[0m\u001b[1;33m\u001b[0m\u001b[1;33m\u001b[0m\u001b[0m\n",
      "\u001b[1;31mValueError\u001b[0m: Invalid RGBA argument: 'Arson'",
      "\nDuring handling of the above exception, another exception occurred:\n",
      "\u001b[1;31mValueError\u001b[0m                                Traceback (most recent call last)",
      "\u001b[1;32m<ipython-input-88-09733fc6c141>\u001b[0m in \u001b[0;36m<module>\u001b[1;34m\u001b[0m\n\u001b[0;32m      1\u001b[0m \u001b[1;33m\u001b[0m\u001b[0m\n\u001b[0;32m      2\u001b[0m \u001b[1;31m#iris_df = pd.DataFrame(iris.data, columns=iris.feature_names)\u001b[0m\u001b[1;33m\u001b[0m\u001b[1;33m\u001b[0m\u001b[1;33m\u001b[0m\u001b[0m\n\u001b[1;32m----> 3\u001b[1;33m \u001b[0mpd\u001b[0m\u001b[1;33m.\u001b[0m\u001b[0mplotting\u001b[0m\u001b[1;33m.\u001b[0m\u001b[0mscatter_matrix\u001b[0m\u001b[1;33m(\u001b[0m\u001b[0mX_train\u001b[0m\u001b[1;33m,\u001b[0m \u001b[0mc\u001b[0m\u001b[1;33m=\u001b[0m\u001b[0my\u001b[0m\u001b[1;33m,\u001b[0m \u001b[0mfigsize\u001b[0m\u001b[1;33m=\u001b[0m\u001b[1;33m(\u001b[0m\u001b[1;36m20\u001b[0m\u001b[1;33m,\u001b[0m \u001b[1;36m20\u001b[0m\u001b[1;33m)\u001b[0m\u001b[1;33m)\u001b[0m\u001b[1;33m;\u001b[0m\u001b[1;33m\u001b[0m\u001b[1;33m\u001b[0m\u001b[0m\n\u001b[0m",
      "\u001b[1;32mC:\\ProgramData\\Anaconda3\\envs\\Pythondata\\lib\\site-packages\\pandas\\plotting\\_misc.py\u001b[0m in \u001b[0;36mscatter_matrix\u001b[1;34m(frame, alpha, figsize, ax, grid, diagonal, marker, density_kwds, hist_kwds, range_padding, **kwds)\u001b[0m\n\u001b[0;32m    104\u001b[0m \u001b[1;33m\u001b[0m\u001b[0m\n\u001b[0;32m    105\u001b[0m                 ax.scatter(df[b][common], df[a][common],\n\u001b[1;32m--> 106\u001b[1;33m                            marker=marker, alpha=alpha, **kwds)\n\u001b[0m\u001b[0;32m    107\u001b[0m \u001b[1;33m\u001b[0m\u001b[0m\n\u001b[0;32m    108\u001b[0m                 \u001b[0max\u001b[0m\u001b[1;33m.\u001b[0m\u001b[0mset_xlim\u001b[0m\u001b[1;33m(\u001b[0m\u001b[0mboundaries_list\u001b[0m\u001b[1;33m[\u001b[0m\u001b[0mj\u001b[0m\u001b[1;33m]\u001b[0m\u001b[1;33m)\u001b[0m\u001b[1;33m\u001b[0m\u001b[1;33m\u001b[0m\u001b[0m\n",
      "\u001b[1;32mC:\\ProgramData\\Anaconda3\\envs\\Pythondata\\lib\\site-packages\\matplotlib\\__init__.py\u001b[0m in \u001b[0;36minner\u001b[1;34m(ax, data, *args, **kwargs)\u001b[0m\n\u001b[0;32m   1808\u001b[0m                         \u001b[1;34m\"the Matplotlib list!)\"\u001b[0m \u001b[1;33m%\u001b[0m \u001b[1;33m(\u001b[0m\u001b[0mlabel_namer\u001b[0m\u001b[1;33m,\u001b[0m \u001b[0mfunc\u001b[0m\u001b[1;33m.\u001b[0m\u001b[0m__name__\u001b[0m\u001b[1;33m)\u001b[0m\u001b[1;33m,\u001b[0m\u001b[1;33m\u001b[0m\u001b[1;33m\u001b[0m\u001b[0m\n\u001b[0;32m   1809\u001b[0m                         RuntimeWarning, stacklevel=2)\n\u001b[1;32m-> 1810\u001b[1;33m             \u001b[1;32mreturn\u001b[0m \u001b[0mfunc\u001b[0m\u001b[1;33m(\u001b[0m\u001b[0max\u001b[0m\u001b[1;33m,\u001b[0m \u001b[1;33m*\u001b[0m\u001b[0margs\u001b[0m\u001b[1;33m,\u001b[0m \u001b[1;33m**\u001b[0m\u001b[0mkwargs\u001b[0m\u001b[1;33m)\u001b[0m\u001b[1;33m\u001b[0m\u001b[1;33m\u001b[0m\u001b[0m\n\u001b[0m\u001b[0;32m   1811\u001b[0m \u001b[1;33m\u001b[0m\u001b[0m\n\u001b[0;32m   1812\u001b[0m         inner.__doc__ = _add_data_doc(inner.__doc__,\n",
      "\u001b[1;32mC:\\ProgramData\\Anaconda3\\envs\\Pythondata\\lib\\site-packages\\matplotlib\\axes\\_axes.py\u001b[0m in \u001b[0;36mscatter\u001b[1;34m(self, x, y, s, c, marker, cmap, norm, vmin, vmax, alpha, linewidths, verts, edgecolors, **kwargs)\u001b[0m\n\u001b[0;32m   4251\u001b[0m                     \u001b[1;34m\"or as numbers to be mapped to colors. \"\u001b[0m\u001b[1;33m\u001b[0m\u001b[1;33m\u001b[0m\u001b[0m\n\u001b[0;32m   4252\u001b[0m                     \u001b[1;34m\"Here c = {}.\"\u001b[0m  \u001b[1;31m# <- beware, could be long depending on c.\u001b[0m\u001b[1;33m\u001b[0m\u001b[1;33m\u001b[0m\u001b[0m\n\u001b[1;32m-> 4253\u001b[1;33m                     \u001b[1;33m.\u001b[0m\u001b[0mformat\u001b[0m\u001b[1;33m(\u001b[0m\u001b[0mc\u001b[0m\u001b[1;33m)\u001b[0m\u001b[1;33m\u001b[0m\u001b[1;33m\u001b[0m\u001b[0m\n\u001b[0m\u001b[0;32m   4254\u001b[0m                 )\n\u001b[0;32m   4255\u001b[0m         \u001b[1;32melse\u001b[0m\u001b[1;33m:\u001b[0m\u001b[1;33m\u001b[0m\u001b[1;33m\u001b[0m\u001b[0m\n",
      "\u001b[1;31mValueError\u001b[0m: 'c' argument must either be valid as mpl color(s) or as numbers to be mapped to colors. Here c = 0                  Arson\n1         Debris Burning\n2          Miscellaneous\n3         Debris Burning\n4               Children\n5               Children\n6         Debris Burning\n7                  Arson\n8         Debris Burning\n9               Campfire\n10        Debris Burning\n11        Debris Burning\n12         Miscellaneous\n13        Debris Burning\n14        Debris Burning\n15        Debris Burning\n16        Debris Burning\n17         Miscellaneous\n18         Miscellaneous\n19        Debris Burning\n20        Debris Burning\n21        Debris Burning\n22         Miscellaneous\n23        Debris Burning\n24        Debris Burning\n25              Campfire\n26        Debris Burning\n27         Miscellaneous\n28               Smoking\n29        Debris Burning\n               ...      \n344756     Miscellaneous\n344757    Debris Burning\n344758          Campfire\n344759    Debris Burning\n344760    Debris Burning\n344761             Arson\n344762             Arson\n344763     Miscellaneous\n344764     Miscellaneous\n344765     Miscellaneous\n344766     Miscellaneous\n344767    Debris Burning\n344768     Equipment Use\n344769             Arson\n344770     Equipment Use\n344771     Equipment Use\n344772     Equipment Use\n344773    Debris Burning\n344774    Debris Burning\n344775     Equipment Use\n344776          Campfire\n344777    Debris Burning\n344778     Equipment Use\n344779           Smoking\n344780    Debris Burning\n344781     Miscellaneous\n344782             Arson\n344783     Equipment Use\n344784          Campfire\n344785     Equipment Use\nName: STAT_CAUSE_DESCR, Length: 231483, dtype: object."
     ]
    },
    {
     "data": {
      "image/png": "[encoded data removed]",
      "text/plain": [
       "<Figure size 1440x1440 with 49 Axes>"
      ]
     },
     "metadata": {
      "needs_background": "light"
     },
     "output_type": "display_data"
    }
   ],
   "source": [
    "    \n",
    "#iris_df = pd.DataFrame(iris.data, columns=iris.feature_names)\n",
    "pd.plotting.scatter_matrix(X_train, c=y, figsize=(20, 20));"
   ]
  },
  {
   "cell_type": "code",
   "execution_count": 58,
   "metadata": {},
   "outputs": [],
   "source": [
    "pd.plotting.scatter_matrix??"
   ]
  },
  {
   "cell_type": "markdown",
   "metadata": {},
   "source": [
    "## Deep Learning for Predicting Fire Cause Category based on Fire size and weather averages"
   ]
  },
  {
   "cell_type": "code",
   "execution_count": 95,
   "metadata": {},
   "outputs": [],
   "source": [
    "from tensorflow.keras.models import Sequential\n",
    "from tensorflow.keras.layers import Dense\n",
    "\n",
    "# Create model and add layers\n",
    "model = Sequential()\n",
    "model.add(Dense(units=20, activation='relu', input_dim=7))\n",
    "model.add(Dense(units=100, activation='relu'))\n",
    "model.add(Dense(units=12, activation='softmax'))"
   ]
  },
  {
   "cell_type": "code",
   "execution_count": 96,
   "metadata": {},
   "outputs": [],
   "source": [
    "# Compile and fit the model\n",
    "model.compile(optimizer='adam',\n",
    "              loss='categorical_crossentropy',\n",
    "              metrics=['accuracy'])"
   ]
  },
  {
   "cell_type": "code",
   "execution_count": 97,
   "metadata": {},
   "outputs": [
    {
     "name": "stdout",
     "output_type": "stream",
     "text": [
      "Model: \"sequential_6\"\n",
      "_________________________________________________________________\n",
      "Layer (type)                 Output Shape              Param #   \n",
      "=================================================================\n",
      "dense_18 (Dense)             (None, 20)                160       \n",
      "_________________________________________________________________\n",
      "dense_19 (Dense)             (None, 100)               2100      \n",
      "_________________________________________________________________\n",
      "dense_20 (Dense)             (None, 12)                1212      \n",
      "=================================================================\n",
      "Total params: 3,472\n",
      "Trainable params: 3,472\n",
      "Non-trainable params: 0\n",
      "_________________________________________________________________\n"
     ]
    }
   ],
   "source": [
    "model.summary()"
   ]
  },
  {
   "cell_type": "code",
   "execution_count": 98,
   "metadata": {
    "scrolled": true
   },
   "outputs": [
    {
     "name": "stdout",
     "output_type": "stream",
     "text": [
      "Epoch 1/60\n",
      "173612/173612 - 10s - loss: 1.7509 - acc: 0.3532\n",
      "Epoch 2/60\n",
      "173612/173612 - 10s - loss: 1.7344 - acc: 0.3553\n",
      "Epoch 3/60\n",
      "173612/173612 - 9s - loss: 1.7300 - acc: 0.3545\n",
      "Epoch 4/60\n",
      "173612/173612 - 10s - loss: 1.7273 - acc: 0.3554\n",
      "Epoch 5/60\n",
      "173612/173612 - 10s - loss: 1.7251 - acc: 0.3565\n",
      "Epoch 6/60\n",
      "173612/173612 - 10s - loss: 1.7221 - acc: 0.3573\n",
      "Epoch 7/60\n",
      "173612/173612 - 9s - loss: 1.7204 - acc: 0.3581\n",
      "Epoch 8/60\n",
      "173612/173612 - 9s - loss: 1.7189 - acc: 0.3587\n",
      "Epoch 9/60\n",
      "173612/173612 - 9s - loss: 1.7179 - acc: 0.3582\n",
      "Epoch 10/60\n",
      "173612/173612 - 9s - loss: 1.7166 - acc: 0.3589\n",
      "Epoch 11/60\n",
      "173612/173612 - 9s - loss: 1.7158 - acc: 0.3611\n",
      "Epoch 12/60\n",
      "173612/173612 - 9s - loss: 1.7150 - acc: 0.3606\n",
      "Epoch 13/60\n",
      "173612/173612 - 9s - loss: 1.7144 - acc: 0.3604\n",
      "Epoch 14/60\n",
      "173612/173612 - 10s - loss: 1.7133 - acc: 0.3619\n",
      "Epoch 15/60\n",
      "173612/173612 - 9s - loss: 1.7126 - acc: 0.3634\n",
      "Epoch 16/60\n",
      "173612/173612 - 9s - loss: 1.7124 - acc: 0.3622\n",
      "Epoch 17/60\n",
      "173612/173612 - 9s - loss: 1.7116 - acc: 0.3635\n",
      "Epoch 18/60\n",
      "173612/173612 - 9s - loss: 1.7113 - acc: 0.3647\n",
      "Epoch 19/60\n",
      "173612/173612 - 10s - loss: 1.7106 - acc: 0.3644\n",
      "Epoch 20/60\n",
      "173612/173612 - 10s - loss: 1.7103 - acc: 0.3637\n",
      "Epoch 21/60\n",
      "173612/173612 - 11s - loss: 1.7097 - acc: 0.3636\n",
      "Epoch 22/60\n",
      "173612/173612 - 11s - loss: 1.7093 - acc: 0.3641\n",
      "Epoch 23/60\n",
      "173612/173612 - 10s - loss: 1.7091 - acc: 0.3643\n",
      "Epoch 24/60\n",
      "173612/173612 - 10s - loss: 1.7090 - acc: 0.3646\n",
      "Epoch 25/60\n",
      "173612/173612 - 10s - loss: 1.7084 - acc: 0.3648\n",
      "Epoch 26/60\n",
      "173612/173612 - 9s - loss: 1.7079 - acc: 0.3659\n",
      "Epoch 27/60\n",
      "173612/173612 - 10s - loss: 1.7075 - acc: 0.3665\n",
      "Epoch 28/60\n",
      "173612/173612 - 10s - loss: 1.7076 - acc: 0.3654\n",
      "Epoch 29/60\n",
      "173612/173612 - 10s - loss: 1.7071 - acc: 0.3656\n",
      "Epoch 30/60\n",
      "173612/173612 - 10s - loss: 1.7066 - acc: 0.3664\n",
      "Epoch 31/60\n",
      "173612/173612 - 10s - loss: 1.7066 - acc: 0.3666\n",
      "Epoch 32/60\n",
      "173612/173612 - 9s - loss: 1.7059 - acc: 0.3665\n",
      "Epoch 33/60\n",
      "173612/173612 - 9s - loss: 1.7060 - acc: 0.3660\n",
      "Epoch 34/60\n",
      "173612/173612 - 9s - loss: 1.7056 - acc: 0.3664\n",
      "Epoch 35/60\n",
      "173612/173612 - 9s - loss: 1.7054 - acc: 0.3674\n",
      "Epoch 36/60\n",
      "173612/173612 - 9s - loss: 1.7051 - acc: 0.3666\n",
      "Epoch 37/60\n",
      "173612/173612 - 9s - loss: 1.7053 - acc: 0.3659\n",
      "Epoch 38/60\n",
      "173612/173612 - 10s - loss: 1.7046 - acc: 0.3674\n",
      "Epoch 39/60\n",
      "173612/173612 - 10s - loss: 1.7045 - acc: 0.3678\n",
      "Epoch 40/60\n",
      "173612/173612 - 10s - loss: 1.7042 - acc: 0.3662\n",
      "Epoch 41/60\n",
      "173612/173612 - 10s - loss: 1.7041 - acc: 0.3661\n",
      "Epoch 42/60\n",
      "173612/173612 - 10s - loss: 1.7038 - acc: 0.3684\n",
      "Epoch 43/60\n",
      "173612/173612 - 10s - loss: 1.7035 - acc: 0.3677\n",
      "Epoch 44/60\n",
      "173612/173612 - 10s - loss: 1.7031 - acc: 0.3680\n",
      "Epoch 45/60\n",
      "173612/173612 - 10s - loss: 1.7028 - acc: 0.3679\n",
      "Epoch 46/60\n",
      "173612/173612 - 10s - loss: 1.7027 - acc: 0.3684\n",
      "Epoch 47/60\n",
      "173612/173612 - 9s - loss: 1.7024 - acc: 0.3688\n",
      "Epoch 48/60\n",
      "173612/173612 - 9s - loss: 1.7021 - acc: 0.3692\n",
      "Epoch 49/60\n",
      "173612/173612 - 9s - loss: 1.7018 - acc: 0.3677\n",
      "Epoch 50/60\n",
      "173612/173612 - 9s - loss: 1.7013 - acc: 0.3691\n",
      "Epoch 51/60\n",
      "173612/173612 - 9s - loss: 1.7016 - acc: 0.3685\n",
      "Epoch 52/60\n",
      "173612/173612 - 9s - loss: 1.7011 - acc: 0.3687\n",
      "Epoch 53/60\n",
      "173612/173612 - 9s - loss: 1.7012 - acc: 0.3689\n",
      "Epoch 54/60\n",
      "173612/173612 - 9s - loss: 1.7010 - acc: 0.3693\n",
      "Epoch 55/60\n",
      "173612/173612 - 9s - loss: 1.7005 - acc: 0.3688\n",
      "Epoch 56/60\n",
      "173612/173612 - 10s - loss: 1.7005 - acc: 0.3692\n",
      "Epoch 57/60\n",
      "173612/173612 - 10s - loss: 1.7006 - acc: 0.3700\n",
      "Epoch 58/60\n",
      "173612/173612 - 9s - loss: 1.7003 - acc: 0.3700\n",
      "Epoch 59/60\n",
      "173612/173612 - 10s - loss: 1.6996 - acc: 0.3700\n",
      "Epoch 60/60\n",
      "173612/173612 - 9s - loss: 1.6994 - acc: 0.3704\n"
     ]
    },
    {
     "data": {
      "text/plain": [
       "<tensorflow.python.keras.callbacks.History at 0x2d4be77f5c0>"
      ]
     },
     "execution_count": 98,
     "metadata": {},
     "output_type": "execute_result"
    }
   ],
   "source": [
    "model.fit(\n",
    "    X_train_scaled,\n",
    "    y_train_categorical,\n",
    "    epochs=60,\n",
    "    shuffle=True,\n",
    "    verbose=2\n",
    ")"
   ]
  },
  {
   "cell_type": "code",
   "execution_count": 27,
   "metadata": {},
   "outputs": [
    {
     "name": "stdout",
     "output_type": "stream",
     "text": [
      "60607/60607 - 2s - loss: 1.7322 - acc: 0.3622\n",
      "Normal Neural Network - Loss: 1.7321916595196014, Accuracy: 0.36216938495635986\n"
     ]
    }
   ],
   "source": [
    "model_loss, model_accuracy = model.evaluate(\n",
    "    X_test_scaled, y_test_categorical, verbose=2)\n",
    "print(f\"Normal Neural Network - Loss: {model_loss}, Accuracy: {model_accuracy}\")"
   ]
  },
  {
   "cell_type": "code",
   "execution_count": 28,
   "metadata": {},
   "outputs": [],
   "source": [
    "encoded_predictions = model.predict_classes(X_test_scaled[:5])\n",
    "prediction_labels = label_encoder.inverse_transform(encoded_predictions)"
   ]
  },
  {
   "cell_type": "code",
   "execution_count": 29,
   "metadata": {},
   "outputs": [
    {
     "name": "stdout",
     "output_type": "stream",
     "text": [
      "Predicted classes: ['Debris Burning' 'Debris Burning' 'Lightning' 'Debris Burning'\n",
      " 'Miscellaneous']\n",
      "Actual Labels: ['Arson', 'Debris Burning', 'Children', 'Children', 'Equipment Use']\n"
     ]
    }
   ],
   "source": [
    "print(f\"Predicted classes: {prediction_labels}\")\n",
    "print(f\"Actual Labels: {list(y_test[:5])}\")"
   ]
  },
  {
   "cell_type": "markdown",
   "metadata": {},
   "source": [
    "## Second Deep Learning Model to Predict Fire Category by Fire Cause and Weather Data Averages"
   ]
  },
  {
   "cell_type": "code",
   "execution_count": 38,
   "metadata": {},
   "outputs": [
    {
     "data": {
      "text/html": [
       "<div>\n",
       "<style scoped>\n",
       "    .dataframe tbody tr th:only-of-type {\n",
       "        vertical-align: middle;\n",
       "    }\n",
       "\n",
       "    .dataframe tbody tr th {\n",
       "        vertical-align: top;\n",
       "    }\n",
       "\n",
       "    .dataframe thead th {\n",
       "        text-align: right;\n",
       "    }\n",
       "</style>\n",
       "<table border=\"1\" class=\"dataframe\">\n",
       "  <thead>\n",
       "    <tr style=\"text-align: right;\">\n",
       "      <th></th>\n",
       "      <th>STATE</th>\n",
       "      <th>YEAR_MONTH</th>\n",
       "      <th>Month_avg_temp</th>\n",
       "      <th>month_max_temp</th>\n",
       "      <th>month_min_temp</th>\n",
       "      <th>STAT_CAUSE_DESCR</th>\n",
       "    </tr>\n",
       "  </thead>\n",
       "  <tbody>\n",
       "    <tr>\n",
       "      <th>0</th>\n",
       "      <td>GA</td>\n",
       "      <td>201012</td>\n",
       "      <td>39.9</td>\n",
       "      <td>51.5</td>\n",
       "      <td>28.3</td>\n",
       "      <td>Arson</td>\n",
       "    </tr>\n",
       "    <tr>\n",
       "      <th>1</th>\n",
       "      <td>GA</td>\n",
       "      <td>201012</td>\n",
       "      <td>39.9</td>\n",
       "      <td>51.5</td>\n",
       "      <td>28.3</td>\n",
       "      <td>Debris Burning</td>\n",
       "    </tr>\n",
       "    <tr>\n",
       "      <th>2</th>\n",
       "      <td>GA</td>\n",
       "      <td>201012</td>\n",
       "      <td>39.9</td>\n",
       "      <td>51.5</td>\n",
       "      <td>28.3</td>\n",
       "      <td>Miscellaneous</td>\n",
       "    </tr>\n",
       "    <tr>\n",
       "      <th>3</th>\n",
       "      <td>GA</td>\n",
       "      <td>201012</td>\n",
       "      <td>39.9</td>\n",
       "      <td>51.5</td>\n",
       "      <td>28.3</td>\n",
       "      <td>Debris Burning</td>\n",
       "    </tr>\n",
       "    <tr>\n",
       "      <th>4</th>\n",
       "      <td>GA</td>\n",
       "      <td>201012</td>\n",
       "      <td>39.9</td>\n",
       "      <td>51.5</td>\n",
       "      <td>28.3</td>\n",
       "      <td>Children</td>\n",
       "    </tr>\n",
       "  </tbody>\n",
       "</table>\n",
       "</div>"
      ],
      "text/plain": [
       "  STATE  YEAR_MONTH  Month_avg_temp  month_max_temp  month_min_temp  \\\n",
       "0    GA      201012            39.9            51.5            28.3   \n",
       "1    GA      201012            39.9            51.5            28.3   \n",
       "2    GA      201012            39.9            51.5            28.3   \n",
       "3    GA      201012            39.9            51.5            28.3   \n",
       "4    GA      201012            39.9            51.5            28.3   \n",
       "\n",
       "  STAT_CAUSE_DESCR  \n",
       "0            Arson  \n",
       "1   Debris Burning  \n",
       "2    Miscellaneous  \n",
       "3   Debris Burning  \n",
       "4         Children  "
      ]
     },
     "execution_count": 38,
     "metadata": {},
     "output_type": "execute_result"
    }
   ],
   "source": [
    "# New Categorical assessment to try to find the Fire Size Category, from A to G:\n",
    "# Class A - one-fourth acre or less;\n",
    "# Class B - more than one-fourth acre, but less than 10 acres;\n",
    "# Class C - 10 acres or more, but less than 100 acres;\n",
    "# Class D - 100 acres or more, but less than 300 acres;\n",
    "# Class E - 300 acres or more, but less than 1,000 acres;\n",
    "# Class F - 1,000 acres or more, but less than 5,000 acres;\n",
    "# Class G - 5,000 acres or more\n",
    "\n",
    "# new X and y variables \n",
    "X = df_fire_class_size.drop(\"FIRE_SIZE_CLASS\", axis=1)\n",
    "y = df_fire_class_size[\"FIRE_SIZE_CLASS\"]\n",
    "X.head()\n"
   ]
  },
  {
   "cell_type": "code",
   "execution_count": 39,
   "metadata": {},
   "outputs": [
    {
     "data": {
      "text/html": [
       "<div>\n",
       "<style scoped>\n",
       "    .dataframe tbody tr th:only-of-type {\n",
       "        vertical-align: middle;\n",
       "    }\n",
       "\n",
       "    .dataframe tbody tr th {\n",
       "        vertical-align: top;\n",
       "    }\n",
       "\n",
       "    .dataframe thead th {\n",
       "        text-align: right;\n",
       "    }\n",
       "</style>\n",
       "<table border=\"1\" class=\"dataframe\">\n",
       "  <thead>\n",
       "    <tr style=\"text-align: right;\">\n",
       "      <th></th>\n",
       "      <th>YEAR_MONTH</th>\n",
       "      <th>Month_avg_temp</th>\n",
       "      <th>month_max_temp</th>\n",
       "      <th>month_min_temp</th>\n",
       "      <th>STAT_CAUSE_DESCR</th>\n",
       "      <th>STATE_CA</th>\n",
       "      <th>STATE_GA</th>\n",
       "    </tr>\n",
       "  </thead>\n",
       "  <tbody>\n",
       "    <tr>\n",
       "      <th>0</th>\n",
       "      <td>201012</td>\n",
       "      <td>39.9</td>\n",
       "      <td>51.5</td>\n",
       "      <td>28.3</td>\n",
       "      <td>Arson</td>\n",
       "      <td>0</td>\n",
       "      <td>1</td>\n",
       "    </tr>\n",
       "    <tr>\n",
       "      <th>1</th>\n",
       "      <td>201012</td>\n",
       "      <td>39.9</td>\n",
       "      <td>51.5</td>\n",
       "      <td>28.3</td>\n",
       "      <td>Debris Burning</td>\n",
       "      <td>0</td>\n",
       "      <td>1</td>\n",
       "    </tr>\n",
       "    <tr>\n",
       "      <th>2</th>\n",
       "      <td>201012</td>\n",
       "      <td>39.9</td>\n",
       "      <td>51.5</td>\n",
       "      <td>28.3</td>\n",
       "      <td>Miscellaneous</td>\n",
       "      <td>0</td>\n",
       "      <td>1</td>\n",
       "    </tr>\n",
       "    <tr>\n",
       "      <th>3</th>\n",
       "      <td>201012</td>\n",
       "      <td>39.9</td>\n",
       "      <td>51.5</td>\n",
       "      <td>28.3</td>\n",
       "      <td>Debris Burning</td>\n",
       "      <td>0</td>\n",
       "      <td>1</td>\n",
       "    </tr>\n",
       "    <tr>\n",
       "      <th>4</th>\n",
       "      <td>201012</td>\n",
       "      <td>39.9</td>\n",
       "      <td>51.5</td>\n",
       "      <td>28.3</td>\n",
       "      <td>Children</td>\n",
       "      <td>0</td>\n",
       "      <td>1</td>\n",
       "    </tr>\n",
       "  </tbody>\n",
       "</table>\n",
       "</div>"
      ],
      "text/plain": [
       "   YEAR_MONTH  Month_avg_temp  month_max_temp  month_min_temp  \\\n",
       "0      201012            39.9            51.5            28.3   \n",
       "1      201012            39.9            51.5            28.3   \n",
       "2      201012            39.9            51.5            28.3   \n",
       "3      201012            39.9            51.5            28.3   \n",
       "4      201012            39.9            51.5            28.3   \n",
       "\n",
       "  STAT_CAUSE_DESCR  STATE_CA  STATE_GA  \n",
       "0            Arson         0         1  \n",
       "1   Debris Burning         0         1  \n",
       "2    Miscellaneous         0         1  \n",
       "3   Debris Burning         0         1  \n",
       "4         Children         0         1  "
      ]
     },
     "execution_count": 39,
     "metadata": {},
     "output_type": "execute_result"
    }
   ],
   "source": [
    "X = pd.get_dummies(X, columns=[\"STATE\"])\n",
    "\n",
    "X.head()"
   ]
  },
  {
   "cell_type": "code",
   "execution_count": 61,
   "metadata": {},
   "outputs": [],
   "source": [
    " \n",
    "# from sklearn.preprocessing import OneHotEncoder\n",
    "# from sklearn.compose import ColumnTransformer\n",
    "\n",
    "# columnTransformer = ColumnTransformer([('encoder', OneHotEncoder(), [\"STAT_CAUSE_DESCR\"])], remainder='passthrough')\n",
    "# X = np.array(columnTransformer.fit_transform(X), dtype = np.str)\n",
    "\n",
    "#### Referenced https://blog.contactsunny.com/data-science/columntransformer-in-scikit-for-labelencoding-and-onehotencoding-in-machine-learning\n",
    "#### Didn't work for what i needed, missing steps"
   ]
  },
  {
   "cell_type": "code",
   "execution_count": 41,
   "metadata": {},
   "outputs": [
    {
     "data": {
      "text/html": [
       "<div>\n",
       "<style scoped>\n",
       "    .dataframe tbody tr th:only-of-type {\n",
       "        vertical-align: middle;\n",
       "    }\n",
       "\n",
       "    .dataframe tbody tr th {\n",
       "        vertical-align: top;\n",
       "    }\n",
       "\n",
       "    .dataframe thead th {\n",
       "        text-align: right;\n",
       "    }\n",
       "</style>\n",
       "<table border=\"1\" class=\"dataframe\">\n",
       "  <thead>\n",
       "    <tr style=\"text-align: right;\">\n",
       "      <th></th>\n",
       "      <th>YEAR_MONTH</th>\n",
       "      <th>Month_avg_temp</th>\n",
       "      <th>month_max_temp</th>\n",
       "      <th>month_min_temp</th>\n",
       "      <th>STAT_CAUSE_DESCR</th>\n",
       "      <th>STATE_CA</th>\n",
       "      <th>STATE_GA</th>\n",
       "    </tr>\n",
       "  </thead>\n",
       "  <tbody>\n",
       "    <tr>\n",
       "      <th>0</th>\n",
       "      <td>201012</td>\n",
       "      <td>39.9</td>\n",
       "      <td>51.5</td>\n",
       "      <td>28.3</td>\n",
       "      <td>0</td>\n",
       "      <td>0</td>\n",
       "      <td>1</td>\n",
       "    </tr>\n",
       "    <tr>\n",
       "      <th>1</th>\n",
       "      <td>201012</td>\n",
       "      <td>39.9</td>\n",
       "      <td>51.5</td>\n",
       "      <td>28.3</td>\n",
       "      <td>3</td>\n",
       "      <td>0</td>\n",
       "      <td>1</td>\n",
       "    </tr>\n",
       "    <tr>\n",
       "      <th>2</th>\n",
       "      <td>201012</td>\n",
       "      <td>39.9</td>\n",
       "      <td>51.5</td>\n",
       "      <td>28.3</td>\n",
       "      <td>7</td>\n",
       "      <td>0</td>\n",
       "      <td>1</td>\n",
       "    </tr>\n",
       "    <tr>\n",
       "      <th>3</th>\n",
       "      <td>201012</td>\n",
       "      <td>39.9</td>\n",
       "      <td>51.5</td>\n",
       "      <td>28.3</td>\n",
       "      <td>3</td>\n",
       "      <td>0</td>\n",
       "      <td>1</td>\n",
       "    </tr>\n",
       "    <tr>\n",
       "      <th>4</th>\n",
       "      <td>201012</td>\n",
       "      <td>39.9</td>\n",
       "      <td>51.5</td>\n",
       "      <td>28.3</td>\n",
       "      <td>2</td>\n",
       "      <td>0</td>\n",
       "      <td>1</td>\n",
       "    </tr>\n",
       "  </tbody>\n",
       "</table>\n",
       "</div>"
      ],
      "text/plain": [
       "   YEAR_MONTH  Month_avg_temp  month_max_temp  month_min_temp  \\\n",
       "0      201012            39.9            51.5            28.3   \n",
       "1      201012            39.9            51.5            28.3   \n",
       "2      201012            39.9            51.5            28.3   \n",
       "3      201012            39.9            51.5            28.3   \n",
       "4      201012            39.9            51.5            28.3   \n",
       "\n",
       "   STAT_CAUSE_DESCR  STATE_CA  STATE_GA  \n",
       "0                 0         0         1  \n",
       "1                 3         0         1  \n",
       "2                 7         0         1  \n",
       "3                 3         0         1  \n",
       "4                 2         0         1  "
      ]
     },
     "execution_count": 41,
     "metadata": {},
     "output_type": "execute_result"
    }
   ],
   "source": [
    "labelencoder = LabelEncoder()\n",
    "X[\"STAT_CAUSE_DESCR\"] = labelencoder.fit_transform(X[\"STAT_CAUSE_DESCR\"])\n",
    "#X[\"STATE\"] = labelencoder.fit_transform(X[\"STATE\"])\n",
    "X.head()\n",
    "\n",
    "# from sklearn.preprocessing import OneHotEncoder\n",
    "# onehotencoder = OneHotEncoder(categorical_features = [6])\n",
    "# X = onehotencoder.fit_transform(X).toarray()"
   ]
  },
  {
   "cell_type": "code",
   "execution_count": 42,
   "metadata": {},
   "outputs": [],
   "source": [
    "X_train, X_test, y_train, y_test = train_test_split(X, y, random_state=1, stratify=y)"
   ]
  },
  {
   "cell_type": "code",
   "execution_count": 43,
   "metadata": {},
   "outputs": [
    {
     "name": "stderr",
     "output_type": "stream",
     "text": [
      "C:\\ProgramData\\Anaconda3\\envs\\Pythondata\\lib\\site-packages\\sklearn\\preprocessing\\data.py:334: DataConversionWarning: Data with input dtype uint8, int64, float64 were all converted to float64 by MinMaxScaler.\n",
      "  return self.partial_fit(X, y)\n"
     ]
    }
   ],
   "source": [
    "X_scaler = MinMaxScaler().fit(X_train)\n",
    "X_train_scaled = X_scaler.transform(X_train)\n",
    "X_test_scaled = X_scaler.transform(X_test)"
   ]
  },
  {
   "cell_type": "code",
   "execution_count": 44,
   "metadata": {},
   "outputs": [],
   "source": [
    "label_encoder = LabelEncoder()\n",
    "label_encoder.fit(y_train)\n",
    "encoded_y_train = label_encoder.transform(y_train)\n",
    "encoded_y_test = label_encoder.transform(y_test)"
   ]
  },
  {
   "cell_type": "code",
   "execution_count": 45,
   "metadata": {},
   "outputs": [],
   "source": [
    "y_train_categorical = to_categorical(encoded_y_train)\n",
    "y_test_categorical = to_categorical(encoded_y_test)"
   ]
  },
  {
   "cell_type": "code",
   "execution_count": 46,
   "metadata": {},
   "outputs": [
    {
     "name": "stdout",
     "output_type": "stream",
     "text": [
      "Training: [45.86099363 46.15909228  6.05547275  0.96084568  0.49994775  0.30964861\n",
      "  0.15399931]\n",
      "Test: [45.86103915 46.15803455  6.05540614  0.96028512  0.49994225  0.31019519\n",
      "  0.1550976 ]\n"
     ]
    }
   ],
   "source": [
    "print('Training:', np.bincount(encoded_y_train) / float(len(encoded_y_train)) * 100.0)\n",
    "print('Test:', np.bincount(encoded_y_test) / float(len(encoded_y_test)) * 100.0)"
   ]
  },
  {
   "cell_type": "code",
   "execution_count": 51,
   "metadata": {},
   "outputs": [],
   "source": [
    "from tensorflow.keras.models import Sequential\n",
    "from tensorflow.keras.layers import Dense\n",
    "\n",
    "# Create model and add layers\n",
    "model = Sequential()\n",
    "model.add(Dense(units=100, activation='relu', input_dim=7))\n",
    "model.add(Dense(units=100, activation='relu'))\n",
    "model.add(Dense(units=7, activation='softmax'))"
   ]
  },
  {
   "cell_type": "code",
   "execution_count": 52,
   "metadata": {},
   "outputs": [],
   "source": [
    "# Compile and fit the model\n",
    "model.compile(optimizer='adam',\n",
    "              loss='categorical_crossentropy',\n",
    "              metrics=['accuracy'])"
   ]
  },
  {
   "cell_type": "code",
   "execution_count": 53,
   "metadata": {},
   "outputs": [
    {
     "name": "stdout",
     "output_type": "stream",
     "text": [
      "Model: \"sequential_3\"\n",
      "_________________________________________________________________\n",
      "Layer (type)                 Output Shape              Param #   \n",
      "=================================================================\n",
      "dense_9 (Dense)              (None, 100)               800       \n",
      "_________________________________________________________________\n",
      "dense_10 (Dense)             (None, 100)               10100     \n",
      "_________________________________________________________________\n",
      "dense_11 (Dense)             (None, 7)                 707       \n",
      "=================================================================\n",
      "Total params: 11,607\n",
      "Trainable params: 11,607\n",
      "Non-trainable params: 0\n",
      "_________________________________________________________________\n"
     ]
    }
   ],
   "source": [
    "model.summary()"
   ]
  },
  {
   "cell_type": "code",
   "execution_count": 54,
   "metadata": {
    "scrolled": true
   },
   "outputs": [
    {
     "name": "stdout",
     "output_type": "stream",
     "text": [
      "Epoch 1/100\n",
      "181819/181819 - 13s - loss: 0.9617 - acc: 0.5364\n",
      "Epoch 2/100\n",
      "181819/181819 - 13s - loss: 0.9563 - acc: 0.5386\n",
      "Epoch 3/100\n",
      "181819/181819 - 13s - loss: 0.9523 - acc: 0.5479\n",
      "Epoch 4/100\n",
      "181819/181819 - 13s - loss: 0.9427 - acc: 0.5601\n",
      "Epoch 5/100\n",
      "181819/181819 - 13s - loss: 0.9364 - acc: 0.5658\n",
      "Epoch 6/100\n",
      "181819/181819 - 14s - loss: 0.9339 - acc: 0.5664\n",
      "Epoch 7/100\n",
      "181819/181819 - 14s - loss: 0.9331 - acc: 0.5669\n",
      "Epoch 8/100\n",
      "181819/181819 - 13s - loss: 0.9322 - acc: 0.5673\n",
      "Epoch 9/100\n",
      "181819/181819 - 13s - loss: 0.9316 - acc: 0.5680\n",
      "Epoch 10/100\n",
      "181819/181819 - 13s - loss: 0.9308 - acc: 0.5690\n",
      "Epoch 11/100\n",
      "181819/181819 - 13s - loss: 0.9305 - acc: 0.5693\n",
      "Epoch 12/100\n",
      "181819/181819 - 13s - loss: 0.9302 - acc: 0.5699\n",
      "Epoch 13/100\n",
      "181819/181819 - 13s - loss: 0.9303 - acc: 0.5695\n",
      "Epoch 14/100\n",
      "181819/181819 - 13s - loss: 0.9300 - acc: 0.5697\n",
      "Epoch 15/100\n",
      "181819/181819 - 13s - loss: 0.9297 - acc: 0.5702\n",
      "Epoch 16/100\n",
      "181819/181819 - 13s - loss: 0.9296 - acc: 0.5712\n",
      "Epoch 17/100\n",
      "181819/181819 - 13s - loss: 0.9293 - acc: 0.5704\n",
      "Epoch 18/100\n",
      "181819/181819 - 13s - loss: 0.9292 - acc: 0.5695\n",
      "Epoch 19/100\n",
      "181819/181819 - 13s - loss: 0.9289 - acc: 0.5705\n",
      "Epoch 20/100\n",
      "181819/181819 - 14s - loss: 0.9285 - acc: 0.5709\n",
      "Epoch 21/100\n",
      "181819/181819 - 14s - loss: 0.9284 - acc: 0.5704\n",
      "Epoch 22/100\n",
      "181819/181819 - 13s - loss: 0.9281 - acc: 0.5704\n",
      "Epoch 23/100\n",
      "181819/181819 - 13s - loss: 0.9283 - acc: 0.5705\n",
      "Epoch 24/100\n",
      "181819/181819 - 13s - loss: 0.9280 - acc: 0.5709\n",
      "Epoch 25/100\n",
      "181819/181819 - 13s - loss: 0.9280 - acc: 0.5714\n",
      "Epoch 26/100\n",
      "181819/181819 - 13s - loss: 0.9280 - acc: 0.5705\n",
      "Epoch 27/100\n",
      "181819/181819 - 13s - loss: 0.9276 - acc: 0.5704\n",
      "Epoch 28/100\n",
      "181819/181819 - 13s - loss: 0.9277 - acc: 0.5710\n",
      "Epoch 29/100\n",
      "181819/181819 - 14s - loss: 0.9275 - acc: 0.5715\n",
      "Epoch 30/100\n",
      "181819/181819 - 13s - loss: 0.9272 - acc: 0.5710\n",
      "Epoch 31/100\n",
      "181819/181819 - 13s - loss: 0.9272 - acc: 0.5717\n",
      "Epoch 32/100\n",
      "181819/181819 - 13s - loss: 0.9273 - acc: 0.5719\n",
      "Epoch 33/100\n",
      "181819/181819 - 13s - loss: 0.9273 - acc: 0.5715\n",
      "Epoch 34/100\n",
      "181819/181819 - 13s - loss: 0.9270 - acc: 0.5710\n",
      "Epoch 35/100\n",
      "181819/181819 - 13s - loss: 0.9269 - acc: 0.5713\n",
      "Epoch 36/100\n",
      "181819/181819 - 13s - loss: 0.9270 - acc: 0.5713\n",
      "Epoch 37/100\n",
      "181819/181819 - 13s - loss: 0.9270 - acc: 0.5706\n",
      "Epoch 38/100\n",
      "181819/181819 - 13s - loss: 0.9270 - acc: 0.5715\n",
      "Epoch 39/100\n",
      "181819/181819 - 15s - loss: 0.9265 - acc: 0.5704\n",
      "Epoch 40/100\n",
      "181819/181819 - 15s - loss: 0.9265 - acc: 0.5718\n",
      "Epoch 41/100\n",
      "181819/181819 - 14s - loss: 0.9266 - acc: 0.5704\n",
      "Epoch 42/100\n",
      "181819/181819 - 14s - loss: 0.9264 - acc: 0.5716\n",
      "Epoch 43/100\n",
      "181819/181819 - 13s - loss: 0.9265 - acc: 0.5713\n",
      "Epoch 44/100\n",
      "181819/181819 - 13s - loss: 0.9264 - acc: 0.5716\n",
      "Epoch 45/100\n",
      "181819/181819 - 13s - loss: 0.9264 - acc: 0.5716\n",
      "Epoch 46/100\n",
      "181819/181819 - 13s - loss: 0.9262 - acc: 0.5717\n",
      "Epoch 47/100\n",
      "181819/181819 - 13s - loss: 0.9261 - acc: 0.5721\n",
      "Epoch 48/100\n",
      "181819/181819 - 13s - loss: 0.9259 - acc: 0.5714\n",
      "Epoch 49/100\n",
      "181819/181819 - 14s - loss: 0.9260 - acc: 0.5716\n",
      "Epoch 50/100\n",
      "181819/181819 - 13s - loss: 0.9259 - acc: 0.5716\n",
      "Epoch 51/100\n",
      "181819/181819 - 14s - loss: 0.9259 - acc: 0.5717\n",
      "Epoch 52/100\n",
      "181819/181819 - 13s - loss: 0.9260 - acc: 0.5713\n",
      "Epoch 53/100\n",
      "181819/181819 - 13s - loss: 0.9259 - acc: 0.5714\n",
      "Epoch 54/100\n",
      "181819/181819 - 14s - loss: 0.9259 - acc: 0.5713\n",
      "Epoch 55/100\n",
      "181819/181819 - 13s - loss: 0.9257 - acc: 0.5720\n",
      "Epoch 56/100\n",
      "181819/181819 - 13s - loss: 0.9255 - acc: 0.5722\n",
      "Epoch 57/100\n",
      "181819/181819 - 13s - loss: 0.9257 - acc: 0.5712\n",
      "Epoch 58/100\n",
      "181819/181819 - 13s - loss: 0.9256 - acc: 0.5720\n",
      "Epoch 59/100\n",
      "181819/181819 - 13s - loss: 0.9256 - acc: 0.5717\n",
      "Epoch 60/100\n",
      "181819/181819 - 13s - loss: 0.9255 - acc: 0.5722\n",
      "Epoch 61/100\n",
      "181819/181819 - 13s - loss: 0.9259 - acc: 0.5719\n",
      "Epoch 62/100\n",
      "181819/181819 - 13s - loss: 0.9259 - acc: 0.5717\n",
      "Epoch 63/100\n",
      "181819/181819 - 13s - loss: 0.9256 - acc: 0.5711\n",
      "Epoch 64/100\n",
      "181819/181819 - 13s - loss: 0.9252 - acc: 0.5722\n",
      "Epoch 65/100\n",
      "181819/181819 - 13s - loss: 0.9253 - acc: 0.5719\n",
      "Epoch 66/100\n",
      "181819/181819 - 13s - loss: 0.9254 - acc: 0.5724\n",
      "Epoch 67/100\n",
      "181819/181819 - 13s - loss: 0.9253 - acc: 0.5722\n",
      "Epoch 68/100\n",
      "181819/181819 - 13s - loss: 0.9251 - acc: 0.5719\n",
      "Epoch 69/100\n",
      "181819/181819 - 14s - loss: 0.9260 - acc: 0.5714\n",
      "Epoch 70/100\n",
      "181819/181819 - 14s - loss: 0.9253 - acc: 0.5725\n",
      "Epoch 71/100\n",
      "181819/181819 - 14s - loss: 0.9261 - acc: 0.5726\n",
      "Epoch 72/100\n",
      "181819/181819 - 14s - loss: 0.9258 - acc: 0.5721\n",
      "Epoch 73/100\n",
      "181819/181819 - 14s - loss: 0.9256 - acc: 0.5714\n",
      "Epoch 74/100\n",
      "181819/181819 - 14s - loss: 0.9253 - acc: 0.5717\n",
      "Epoch 75/100\n",
      "181819/181819 - 14s - loss: 0.9252 - acc: 0.5718\n",
      "Epoch 76/100\n",
      "181819/181819 - 14s - loss: 0.9254 - acc: 0.5726\n",
      "Epoch 77/100\n",
      "181819/181819 - 14s - loss: 0.9253 - acc: 0.5720\n",
      "Epoch 78/100\n",
      "181819/181819 - 14s - loss: 0.9253 - acc: 0.5726\n",
      "Epoch 79/100\n",
      "181819/181819 - 14s - loss: 0.9251 - acc: 0.5728\n",
      "Epoch 80/100\n",
      "181819/181819 - 14s - loss: 0.9251 - acc: 0.5717\n",
      "Epoch 81/100\n",
      "181819/181819 - 14s - loss: 0.9249 - acc: 0.5724\n",
      "Epoch 82/100\n",
      "181819/181819 - 15s - loss: 0.9249 - acc: 0.5718\n",
      "Epoch 83/100\n",
      "181819/181819 - 15s - loss: 0.9250 - acc: 0.5725\n",
      "Epoch 84/100\n",
      "181819/181819 - 13s - loss: 0.9249 - acc: 0.5725\n",
      "Epoch 85/100\n",
      "181819/181819 - 13s - loss: 0.9248 - acc: 0.5726\n",
      "Epoch 86/100\n",
      "181819/181819 - 13s - loss: 0.9249 - acc: 0.5713\n",
      "Epoch 87/100\n",
      "181819/181819 - 13s - loss: 0.9248 - acc: 0.5724\n",
      "Epoch 88/100\n",
      "181819/181819 - 13s - loss: 0.9250 - acc: 0.5728\n",
      "Epoch 89/100\n",
      "181819/181819 - 13s - loss: 0.9246 - acc: 0.5725\n",
      "Epoch 90/100\n",
      "181819/181819 - 13s - loss: 0.9246 - acc: 0.5726\n",
      "Epoch 91/100\n",
      "181819/181819 - 13s - loss: 0.9246 - acc: 0.5719\n",
      "Epoch 92/100\n",
      "181819/181819 - 13s - loss: 0.9246 - acc: 0.5725\n",
      "Epoch 93/100\n",
      "181819/181819 - 14s - loss: 0.9247 - acc: 0.5726\n",
      "Epoch 94/100\n",
      "181819/181819 - 14s - loss: 0.9247 - acc: 0.5718\n",
      "Epoch 95/100\n",
      "181819/181819 - 14s - loss: 0.9247 - acc: 0.5732\n",
      "Epoch 96/100\n",
      "181819/181819 - 14s - loss: 0.9247 - acc: 0.5719\n",
      "Epoch 97/100\n",
      "181819/181819 - 14s - loss: 0.9247 - acc: 0.5723\n",
      "Epoch 98/100\n",
      "181819/181819 - 15s - loss: 0.9246 - acc: 0.5727\n",
      "Epoch 99/100\n",
      "181819/181819 - 15s - loss: 0.9246 - acc: 0.5728\n",
      "Epoch 100/100\n",
      "181819/181819 - 15s - loss: 0.9245 - acc: 0.5722\n"
     ]
    },
    {
     "data": {
      "text/plain": [
       "<tensorflow.python.keras.callbacks.History at 0x2d4a33657b8>"
      ]
     },
     "execution_count": 54,
     "metadata": {},
     "output_type": "execute_result"
    }
   ],
   "source": [
    "model.fit(\n",
    "    X_train_scaled,\n",
    "    y_train_categorical,\n",
    "    epochs=100,\n",
    "    shuffle=True,\n",
    "    verbose=2\n",
    ")"
   ]
  },
  {
   "cell_type": "code",
   "execution_count": 55,
   "metadata": {},
   "outputs": [
    {
     "name": "stdout",
     "output_type": "stream",
     "text": [
      "60607/60607 - 2s - loss: 0.9280 - acc: 0.5747\n",
      "Normal Neural Network - Loss: 0.9279916856010669, Accuracy: 0.5747026205062866\n"
     ]
    }
   ],
   "source": [
    "model_loss, model_accuracy = model.evaluate(\n",
    "    X_test_scaled, y_test_categorical, verbose=2)\n",
    "print(\n",
    "    f\"Normal Neural Network - Loss: {model_loss}, Accuracy: {model_accuracy}\")"
   ]
  },
  {
   "cell_type": "code",
   "execution_count": 56,
   "metadata": {},
   "outputs": [],
   "source": [
    "encoded_predictions = model.predict_classes(X_test_scaled[:5])\n",
    "prediction_labels = label_encoder.inverse_transform(encoded_predictions)"
   ]
  },
  {
   "cell_type": "code",
   "execution_count": 57,
   "metadata": {},
   "outputs": [
    {
     "name": "stdout",
     "output_type": "stream",
     "text": [
      "Predicted classes: ['A' 'B' 'B' 'B' 'A']\n",
      "Actual Labels: ['B', 'B', 'A', 'B', 'B']\n"
     ]
    }
   ],
   "source": [
    "print(f\"Predicted classes: {prediction_labels}\")\n",
    "print(f\"Actual Labels: {list(y_test[:5])}\")"
   ]
  },
  {
   "cell_type": "code",
   "execution_count": null,
   "metadata": {},
   "outputs": [],
   "source": []
  }
 ],
 "metadata": {
  "kernelspec": {
   "display_name": "Python [conda env:Pythondata]",
   "language": "python",
   "name": "conda-env-Pythondata-py"
  },
  "language_info": {
   "codemirror_mode": {
    "name": "ipython",
    "version": 3
   },
   "file_extension": ".py",
   "mimetype": "text/x-python",
   "name": "python",
   "nbconvert_exporter": "python",
   "pygments_lexer": "ipython3",
   "version": "3.6.8"
  }
 },
 "nbformat": 4,
 "nbformat_minor": 2
}
