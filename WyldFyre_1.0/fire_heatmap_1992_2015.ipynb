{
 "cells": [
  {
   "cell_type": "code",
   "execution_count": 1,
   "metadata": {},
   "outputs": [],
   "source": [
    "import gmaps\n",
    "import pandas as pd\n",
    "\n",
    "# Google developer API key\n",
    "from config import gkey\n",
    "\n",
    "# Configure gmaps\n",
    "gmaps.configure(api_key=gkey)"
   ]
  },
  {
   "cell_type": "code",
   "execution_count": 2,
   "metadata": {},
   "outputs": [
    {
     "data": {
      "text/html": [
       "<div>\n",
       "<style scoped>\n",
       "    .dataframe tbody tr th:only-of-type {\n",
       "        vertical-align: middle;\n",
       "    }\n",
       "\n",
       "    .dataframe tbody tr th {\n",
       "        vertical-align: top;\n",
       "    }\n",
       "\n",
       "    .dataframe thead th {\n",
       "        text-align: right;\n",
       "    }\n",
       "</style>\n",
       "<table border=\"1\" class=\"dataframe\">\n",
       "  <thead>\n",
       "    <tr style=\"text-align: right;\">\n",
       "      <th></th>\n",
       "      <th>OBJECTID</th>\n",
       "      <th>STAT_CAUSE_DESCR</th>\n",
       "      <th>STATE</th>\n",
       "      <th>Date_Discovery</th>\n",
       "      <th>Date_Contained</th>\n",
       "      <th>FIRE_YEAR</th>\n",
       "      <th>FIRE_SIZE</th>\n",
       "      <th>LATITUDE</th>\n",
       "      <th>LONGITUDE</th>\n",
       "      <th>Duration</th>\n",
       "    </tr>\n",
       "  </thead>\n",
       "  <tbody>\n",
       "    <tr>\n",
       "      <th>0</th>\n",
       "      <td>1</td>\n",
       "      <td>Miscellaneous</td>\n",
       "      <td>CA</td>\n",
       "      <td>2/2/2005</td>\n",
       "      <td>2/2/2005</td>\n",
       "      <td>2005</td>\n",
       "      <td>0.10</td>\n",
       "      <td>40.036944</td>\n",
       "      <td>-121.005833</td>\n",
       "      <td>0</td>\n",
       "    </tr>\n",
       "    <tr>\n",
       "      <th>1</th>\n",
       "      <td>2</td>\n",
       "      <td>Lightning</td>\n",
       "      <td>CA</td>\n",
       "      <td>5/12/2004</td>\n",
       "      <td>5/12/2004</td>\n",
       "      <td>2004</td>\n",
       "      <td>0.25</td>\n",
       "      <td>38.933056</td>\n",
       "      <td>-120.404444</td>\n",
       "      <td>0</td>\n",
       "    </tr>\n",
       "    <tr>\n",
       "      <th>2</th>\n",
       "      <td>3</td>\n",
       "      <td>Debris Burning</td>\n",
       "      <td>CA</td>\n",
       "      <td>5/31/2004</td>\n",
       "      <td>5/31/2004</td>\n",
       "      <td>2004</td>\n",
       "      <td>0.10</td>\n",
       "      <td>38.984167</td>\n",
       "      <td>-120.735556</td>\n",
       "      <td>0</td>\n",
       "    </tr>\n",
       "    <tr>\n",
       "      <th>3</th>\n",
       "      <td>4</td>\n",
       "      <td>Lightning</td>\n",
       "      <td>CA</td>\n",
       "      <td>6/28/2004</td>\n",
       "      <td>7/3/2004</td>\n",
       "      <td>2004</td>\n",
       "      <td>0.10</td>\n",
       "      <td>38.559167</td>\n",
       "      <td>-119.913333</td>\n",
       "      <td>5</td>\n",
       "    </tr>\n",
       "    <tr>\n",
       "      <th>4</th>\n",
       "      <td>5</td>\n",
       "      <td>Lightning</td>\n",
       "      <td>CA</td>\n",
       "      <td>6/28/2004</td>\n",
       "      <td>7/3/2004</td>\n",
       "      <td>2004</td>\n",
       "      <td>0.10</td>\n",
       "      <td>38.559167</td>\n",
       "      <td>-119.933056</td>\n",
       "      <td>5</td>\n",
       "    </tr>\n",
       "  </tbody>\n",
       "</table>\n",
       "</div>"
      ],
      "text/plain": [
       "   OBJECTID STAT_CAUSE_DESCR STATE Date_Discovery Date_Contained  FIRE_YEAR  \\\n",
       "0         1    Miscellaneous    CA       2/2/2005       2/2/2005       2005   \n",
       "1         2        Lightning    CA      5/12/2004      5/12/2004       2004   \n",
       "2         3   Debris Burning    CA      5/31/2004      5/31/2004       2004   \n",
       "3         4        Lightning    CA      6/28/2004       7/3/2004       2004   \n",
       "4         5        Lightning    CA      6/28/2004       7/3/2004       2004   \n",
       "\n",
       "   FIRE_SIZE   LATITUDE   LONGITUDE  Duration  \n",
       "0       0.10  40.036944 -121.005833         0  \n",
       "1       0.25  38.933056 -120.404444         0  \n",
       "2       0.10  38.984167 -120.735556         0  \n",
       "3       0.10  38.559167 -119.913333         5  \n",
       "4       0.10  38.559167 -119.933056         5  "
      ]
     },
     "execution_count": 2,
     "metadata": {},
     "output_type": "execute_result"
    }
   ],
   "source": [
    "# Create the fire dataframe\n",
    "fire_map_df = pd.read_csv('Resources/fire_Final.csv')\n",
    "fire_map_df.head()"
   ]
  },
  {
   "cell_type": "code",
   "execution_count": 3,
   "metadata": {},
   "outputs": [],
   "source": [
    "# Store latitude and longitude in locations\n",
    "locations = fire_map_df[[\"LATITUDE\", \"LONGITUDE\"]]"
   ]
  },
  {
   "cell_type": "code",
   "execution_count": 4,
   "metadata": {},
   "outputs": [
    {
     "data": {
      "application/vnd.jupyter.widget-view+json": {
       "model_id": "e1cfb4a3a0d443dcb2e5dba06058dc36",
       "version_major": 2,
       "version_minor": 0
      },
      "text/plain": [
       "Figure(layout=FigureLayout(height='420px'))"
      ]
     },
     "metadata": {},
     "output_type": "display_data"
    }
   ],
   "source": [
    "# Plot Heatmap\n",
    "fig = gmaps.figure()\n",
    "\n",
    "# Fill NaN values and convert to float\n",
    "size = fire_map_df[\"FIRE_SIZE\"].astype(float)\n",
    "\n",
    "heat_layer = gmaps.heatmap_layer(locations, weights=size, \n",
    "                                 dissipating=False, max_intensity=10,\n",
    "                                 point_radius=0.1)\n",
    "\n",
    "# Add layer\n",
    "fig.add_layer(heat_layer)\n",
    "\n",
    "# Display figure\n",
    "fig"
   ]
  },
  {
   "cell_type": "code",
   "execution_count": 5,
   "metadata": {},
   "outputs": [
    {
     "data": {
      "application/vnd.jupyter.widget-view+json": {
       "model_id": "6f205b52cb4b4fd0904a253fd8d7da1f",
       "version_major": 2,
       "version_minor": 0
      },
      "text/plain": [
       "Figure(layout=FigureLayout(height='420px'))"
      ]
     },
     "metadata": {},
     "output_type": "display_data"
    }
   ],
   "source": [
    "# Plot Heatmap\n",
    "fig1 = gmaps.figure()\n",
    "\n",
    "# Fill NaN values and convert to float\n",
    "duration = fire_map_df[\"Duration\"].astype(float)\n",
    "\n",
    "heat_layer_duration = gmaps.heatmap_layer(locations, weights=duration, \n",
    "                                 dissipating=False, max_intensity=10,\n",
    "                                 point_radius=0.1)\n",
    "\n",
    "# Add layer\n",
    "fig1.add_layer(heat_layer_duration)\n",
    "\n",
    "# Display figure\n",
    "fig1"
   ]
  }
 ],
 "metadata": {
  "kernelspec": {
   "display_name": "Python [conda env:.conda-PythonData] *",
   "language": "python",
   "name": "conda-env-.conda-PythonData-py"
  },
  "language_info": {
   "codemirror_mode": {
    "name": "ipython",
    "version": 3
   },
   "file_extension": ".py",
   "mimetype": "text/x-python",
   "name": "python",
   "nbconvert_exporter": "python",
   "pygments_lexer": "ipython3",
   "version": "3.6.8"
  }
 },
 "nbformat": 4,
 "nbformat_minor": 2
}
