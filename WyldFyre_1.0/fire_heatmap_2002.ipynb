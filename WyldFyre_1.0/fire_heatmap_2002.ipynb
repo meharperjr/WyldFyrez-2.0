{
 "cells": [
  {
   "cell_type": "code",
   "execution_count": 1,
   "metadata": {},
   "outputs": [],
   "source": [
    "%matplotlib inline\n",
    "# Dependencies and Setup\n",
    "import pandas as pd\n",
    "import gmaps\n",
    "import numpy as np\n",
    "import datetime as dt\n",
    "import matplotlib.pyplot as plt\n",
    "\n",
    "# Google developer API key\n",
    "from config import gkey\n",
    "\n",
    "# Configure gmaps\n",
    "gmaps.configure(api_key=gkey)"
   ]
  },
  {
   "cell_type": "code",
   "execution_count": 2,
   "metadata": {},
   "outputs": [
    {
     "data": {
      "text/html": [
       "<div>\n",
       "<style scoped>\n",
       "    .dataframe tbody tr th:only-of-type {\n",
       "        vertical-align: middle;\n",
       "    }\n",
       "\n",
       "    .dataframe tbody tr th {\n",
       "        vertical-align: top;\n",
       "    }\n",
       "\n",
       "    .dataframe thead th {\n",
       "        text-align: right;\n",
       "    }\n",
       "</style>\n",
       "<table border=\"1\" class=\"dataframe\">\n",
       "  <thead>\n",
       "    <tr style=\"text-align: right;\">\n",
       "      <th></th>\n",
       "      <th>OBJECTID</th>\n",
       "      <th>STAT_CAUSE_DESCR</th>\n",
       "      <th>STATE</th>\n",
       "      <th>Date_Discovery</th>\n",
       "      <th>Date_Contained</th>\n",
       "      <th>FIRE_YEAR</th>\n",
       "      <th>FIRE_SIZE</th>\n",
       "      <th>LATITUDE</th>\n",
       "      <th>LONGITUDE</th>\n",
       "      <th>Duration</th>\n",
       "    </tr>\n",
       "  </thead>\n",
       "  <tbody>\n",
       "    <tr>\n",
       "      <th>7815</th>\n",
       "      <td>6850</td>\n",
       "      <td>Lightning</td>\n",
       "      <td>CA</td>\n",
       "      <td>7/13/2002</td>\n",
       "      <td>7/15/2002</td>\n",
       "      <td>2002</td>\n",
       "      <td>0.1</td>\n",
       "      <td>37.441667</td>\n",
       "      <td>-119.080000</td>\n",
       "      <td>2</td>\n",
       "    </tr>\n",
       "    <tr>\n",
       "      <th>43738</th>\n",
       "      <td>41844</td>\n",
       "      <td>Lightning</td>\n",
       "      <td>AZ</td>\n",
       "      <td>8/19/2002</td>\n",
       "      <td>8/19/2002</td>\n",
       "      <td>2002</td>\n",
       "      <td>0.1</td>\n",
       "      <td>35.507222</td>\n",
       "      <td>-111.470000</td>\n",
       "      <td>0</td>\n",
       "    </tr>\n",
       "    <tr>\n",
       "      <th>43739</th>\n",
       "      <td>41845</td>\n",
       "      <td>Lightning</td>\n",
       "      <td>AZ</td>\n",
       "      <td>8/19/2002</td>\n",
       "      <td>8/19/2002</td>\n",
       "      <td>2002</td>\n",
       "      <td>0.1</td>\n",
       "      <td>35.405000</td>\n",
       "      <td>-111.459444</td>\n",
       "      <td>0</td>\n",
       "    </tr>\n",
       "    <tr>\n",
       "      <th>43740</th>\n",
       "      <td>41846</td>\n",
       "      <td>Lightning</td>\n",
       "      <td>AZ</td>\n",
       "      <td>8/21/2002</td>\n",
       "      <td>8/21/2002</td>\n",
       "      <td>2002</td>\n",
       "      <td>3.0</td>\n",
       "      <td>35.294444</td>\n",
       "      <td>-111.412500</td>\n",
       "      <td>0</td>\n",
       "    </tr>\n",
       "    <tr>\n",
       "      <th>43741</th>\n",
       "      <td>41847</td>\n",
       "      <td>Lightning</td>\n",
       "      <td>AZ</td>\n",
       "      <td>8/21/2002</td>\n",
       "      <td>8/21/2002</td>\n",
       "      <td>2002</td>\n",
       "      <td>0.1</td>\n",
       "      <td>35.080833</td>\n",
       "      <td>-111.915000</td>\n",
       "      <td>0</td>\n",
       "    </tr>\n",
       "  </tbody>\n",
       "</table>\n",
       "</div>"
      ],
      "text/plain": [
       "       OBJECTID STAT_CAUSE_DESCR STATE Date_Discovery Date_Contained  \\\n",
       "7815       6850        Lightning    CA      7/13/2002      7/15/2002   \n",
       "43738     41844        Lightning    AZ      8/19/2002      8/19/2002   \n",
       "43739     41845        Lightning    AZ      8/19/2002      8/19/2002   \n",
       "43740     41846        Lightning    AZ      8/21/2002      8/21/2002   \n",
       "43741     41847        Lightning    AZ      8/21/2002      8/21/2002   \n",
       "\n",
       "       FIRE_YEAR  FIRE_SIZE   LATITUDE   LONGITUDE  Duration  \n",
       "7815        2002        0.1  37.441667 -119.080000         2  \n",
       "43738       2002        0.1  35.507222 -111.470000         0  \n",
       "43739       2002        0.1  35.405000 -111.459444         0  \n",
       "43740       2002        3.0  35.294444 -111.412500         0  \n",
       "43741       2002        0.1  35.080833 -111.915000         0  "
      ]
     },
     "execution_count": 2,
     "metadata": {},
     "output_type": "execute_result"
    }
   ],
   "source": [
    "# Create the fire dataframe\n",
    "# File to Load \n",
    "file_to_load = \"Resources/fire_Final.csv\"\n",
    "\n",
    "# Read Purchasing File and store into Pandas data frame\n",
    "fire_data = pd.read_csv(file_to_load)\n",
    "\n",
    "fire_map_2002 = fire_data[fire_data.FIRE_YEAR == 2002]\n",
    "\n",
    "fire_map_2002.head()"
   ]
  },
  {
   "cell_type": "code",
   "execution_count": 3,
   "metadata": {},
   "outputs": [],
   "source": [
    "# Store latitude and longitude in locations\n",
    "locations = fire_map_2002[[\"LATITUDE\", \"LONGITUDE\"]]"
   ]
  },
  {
   "cell_type": "code",
   "execution_count": 4,
   "metadata": {},
   "outputs": [
    {
     "data": {
      "application/vnd.jupyter.widget-view+json": {
       "model_id": "7e132866c4f54692bde4c3291d16dbff",
       "version_major": 2,
       "version_minor": 0
      },
      "text/plain": [
       "Figure(layout=FigureLayout(height='420px'))"
      ]
     },
     "metadata": {},
     "output_type": "display_data"
    }
   ],
   "source": [
    "# Plot Heatmap\n",
    "fig = gmaps.figure()\n",
    "\n",
    "# Fill NaN values and convert to float\n",
    "size = fire_map_2002[\"FIRE_SIZE\"].astype(float)\n",
    "\n",
    "heat_layer = gmaps.heatmap_layer(locations, weights=size, \n",
    "                                 dissipating=False, max_intensity=10,\n",
    "                                 point_radius=0.1)\n",
    "\n",
    "# Add layer\n",
    "fig.add_layer(heat_layer)\n",
    "\n",
    "# Display figure\n",
    "fig"
   ]
  },
  {
   "cell_type": "code",
   "execution_count": 5,
   "metadata": {},
   "outputs": [
    {
     "data": {
      "application/vnd.jupyter.widget-view+json": {
       "model_id": "aefa540d94e941cd9adeff0a5a84858a",
       "version_major": 2,
       "version_minor": 0
      },
      "text/plain": [
       "Figure(layout=FigureLayout(height='420px'))"
      ]
     },
     "metadata": {},
     "output_type": "display_data"
    }
   ],
   "source": [
    "# Plot Heatmap\n",
    "fig1 = gmaps.figure()\n",
    "\n",
    "# Fill NaN values and convert to float\n",
    "duration = fire_map_2002[\"Duration\"].astype(float)\n",
    "\n",
    "heat_layer_duration = gmaps.heatmap_layer(locations, weights=duration, \n",
    "                                 dissipating=False, max_intensity=10,\n",
    "                                 point_radius=0.1)\n",
    "\n",
    "# Add layer\n",
    "fig1.add_layer(heat_layer_duration)\n",
    "\n",
    "# Display figure\n",
    "fig1"
   ]
  },
  {
   "cell_type": "code",
   "execution_count": null,
   "metadata": {},
   "outputs": [],
   "source": []
  }
 ],
 "metadata": {
  "kernelspec": {
   "display_name": "Python [conda env:PythonData] *",
   "language": "python",
   "name": "conda-env-PythonData-py"
  },
  "language_info": {
   "codemirror_mode": {
    "name": "ipython",
    "version": 3
   },
   "file_extension": ".py",
   "mimetype": "text/x-python",
   "name": "python",
   "nbconvert_exporter": "python",
   "pygments_lexer": "ipython3",
   "version": "3.6.8"
  }
 },
 "nbformat": 4,
 "nbformat_minor": 2
}
