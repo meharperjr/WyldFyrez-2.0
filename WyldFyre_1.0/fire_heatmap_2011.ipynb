{
 "cells": [
  {
   "cell_type": "code",
   "execution_count": 1,
   "metadata": {},
   "outputs": [],
   "source": [
    "%matplotlib inline\n",
    "# Dependencies and Setup\n",
    "import pandas as pd\n",
    "import gmaps\n",
    "import numpy as np\n",
    "import datetime as dt\n",
    "import matplotlib.pyplot as plt\n",
    "\n",
    "# Google developer API key\n",
    "from config import gkey\n",
    "\n",
    "# Configure gmaps\n",
    "gmaps.configure(api_key=gkey)"
   ]
  },
  {
   "cell_type": "code",
   "execution_count": 3,
   "metadata": {},
   "outputs": [
    {
     "data": {
      "text/html": [
       "<div>\n",
       "<style scoped>\n",
       "    .dataframe tbody tr th:only-of-type {\n",
       "        vertical-align: middle;\n",
       "    }\n",
       "\n",
       "    .dataframe tbody tr th {\n",
       "        vertical-align: top;\n",
       "    }\n",
       "\n",
       "    .dataframe thead th {\n",
       "        text-align: right;\n",
       "    }\n",
       "</style>\n",
       "<table border=\"1\" class=\"dataframe\">\n",
       "  <thead>\n",
       "    <tr style=\"text-align: right;\">\n",
       "      <th></th>\n",
       "      <th>OBJECTID</th>\n",
       "      <th>STAT_CAUSE_DESCR</th>\n",
       "      <th>STATE</th>\n",
       "      <th>Date_Discovery</th>\n",
       "      <th>Date_Contained</th>\n",
       "      <th>FIRE_YEAR</th>\n",
       "      <th>FIRE_SIZE</th>\n",
       "      <th>LATITUDE</th>\n",
       "      <th>LONGITUDE</th>\n",
       "      <th>Duration</th>\n",
       "    </tr>\n",
       "  </thead>\n",
       "  <tbody>\n",
       "    <tr>\n",
       "      <th>701080</th>\n",
       "      <td>1453965</td>\n",
       "      <td>Railroad</td>\n",
       "      <td>AK</td>\n",
       "      <td>3/21/2011</td>\n",
       "      <td>3/21/2011</td>\n",
       "      <td>2011</td>\n",
       "      <td>0.1</td>\n",
       "      <td>60.246389</td>\n",
       "      <td>-149.349444</td>\n",
       "      <td>0</td>\n",
       "    </tr>\n",
       "    <tr>\n",
       "      <th>701081</th>\n",
       "      <td>1453966</td>\n",
       "      <td>Debris Burning</td>\n",
       "      <td>AK</td>\n",
       "      <td>4/15/2011</td>\n",
       "      <td>4/18/2011</td>\n",
       "      <td>2011</td>\n",
       "      <td>0.1</td>\n",
       "      <td>60.475833</td>\n",
       "      <td>-149.752500</td>\n",
       "      <td>3</td>\n",
       "    </tr>\n",
       "    <tr>\n",
       "      <th>701082</th>\n",
       "      <td>1453967</td>\n",
       "      <td>Debris Burning</td>\n",
       "      <td>AK</td>\n",
       "      <td>5/11/2011</td>\n",
       "      <td>5/11/2011</td>\n",
       "      <td>2011</td>\n",
       "      <td>0.1</td>\n",
       "      <td>60.514444</td>\n",
       "      <td>-149.467500</td>\n",
       "      <td>0</td>\n",
       "    </tr>\n",
       "    <tr>\n",
       "      <th>701083</th>\n",
       "      <td>1453968</td>\n",
       "      <td>Debris Burning</td>\n",
       "      <td>AK</td>\n",
       "      <td>5/13/2011</td>\n",
       "      <td>5/13/2011</td>\n",
       "      <td>2011</td>\n",
       "      <td>0.1</td>\n",
       "      <td>60.399722</td>\n",
       "      <td>-149.360833</td>\n",
       "      <td>0</td>\n",
       "    </tr>\n",
       "    <tr>\n",
       "      <th>701084</th>\n",
       "      <td>1453969</td>\n",
       "      <td>Campfire</td>\n",
       "      <td>AK</td>\n",
       "      <td>7/17/2011</td>\n",
       "      <td>7/17/2011</td>\n",
       "      <td>2011</td>\n",
       "      <td>0.1</td>\n",
       "      <td>60.467500</td>\n",
       "      <td>-149.973056</td>\n",
       "      <td>0</td>\n",
       "    </tr>\n",
       "  </tbody>\n",
       "</table>\n",
       "</div>"
      ],
      "text/plain": [
       "        OBJECTID STAT_CAUSE_DESCR STATE Date_Discovery Date_Contained  \\\n",
       "701080   1453965         Railroad    AK      3/21/2011      3/21/2011   \n",
       "701081   1453966   Debris Burning    AK      4/15/2011      4/18/2011   \n",
       "701082   1453967   Debris Burning    AK      5/11/2011      5/11/2011   \n",
       "701083   1453968   Debris Burning    AK      5/13/2011      5/13/2011   \n",
       "701084   1453969         Campfire    AK      7/17/2011      7/17/2011   \n",
       "\n",
       "        FIRE_YEAR  FIRE_SIZE   LATITUDE   LONGITUDE  Duration  \n",
       "701080       2011        0.1  60.246389 -149.349444         0  \n",
       "701081       2011        0.1  60.475833 -149.752500         3  \n",
       "701082       2011        0.1  60.514444 -149.467500         0  \n",
       "701083       2011        0.1  60.399722 -149.360833         0  \n",
       "701084       2011        0.1  60.467500 -149.973056         0  "
      ]
     },
     "execution_count": 3,
     "metadata": {},
     "output_type": "execute_result"
    }
   ],
   "source": [
    "# Create the fire dataframe\n",
    "# File to Load \n",
    "file_to_load = \"Resources/fire_Final.csv\"\n",
    "\n",
    "# Read Purchasing File and store into Pandas data frame\n",
    "fire_data = pd.read_csv(file_to_load)\n",
    "\n",
    "fire_map_2011 = fire_data[fire_data.FIRE_YEAR == 2011]\n",
    "\n",
    "fire_map_2011.head()"
   ]
  },
  {
   "cell_type": "code",
   "execution_count": 4,
   "metadata": {},
   "outputs": [],
   "source": [
    "# Store latitude and longitude in locations\n",
    "locations = fire_map_2011[[\"LATITUDE\", \"LONGITUDE\"]]"
   ]
  },
  {
   "cell_type": "code",
   "execution_count": 5,
   "metadata": {},
   "outputs": [
    {
     "data": {
      "application/vnd.jupyter.widget-view+json": {
       "model_id": "072abdb32e0d42aca28f4369e6776759",
       "version_major": 2,
       "version_minor": 0
      },
      "text/plain": [
       "Figure(layout=FigureLayout(height='420px'))"
      ]
     },
     "metadata": {},
     "output_type": "display_data"
    }
   ],
   "source": [
    "# Plot Heatmap\n",
    "fig = gmaps.figure()\n",
    "\n",
    "# Fill NaN values and convert to float\n",
    "size = fire_map_2011[\"FIRE_SIZE\"].astype(float)\n",
    "\n",
    "heat_layer = gmaps.heatmap_layer(locations, weights=size, \n",
    "                                 dissipating=False, max_intensity=10,\n",
    "                                 point_radius=0.1)\n",
    "\n",
    "# Add layer\n",
    "fig.add_layer(heat_layer)\n",
    "\n",
    "# Display figure\n",
    "fig"
   ]
  },
  {
   "cell_type": "code",
   "execution_count": 7,
   "metadata": {},
   "outputs": [
    {
     "data": {
      "application/vnd.jupyter.widget-view+json": {
       "model_id": "cbd982ebc3d647b097552a9be09bdadf",
       "version_major": 2,
       "version_minor": 0
      },
      "text/plain": [
       "Figure(layout=FigureLayout(height='420px'))"
      ]
     },
     "metadata": {},
     "output_type": "display_data"
    }
   ],
   "source": [
    "# Plot Heatmap\n",
    "fig1 = gmaps.figure()\n",
    "\n",
    "# Fill NaN values and convert to float\n",
    "duration = fire_map_2011[\"Duration\"].astype(float)\n",
    "\n",
    "heat_layer_duration = gmaps.heatmap_layer(locations, weights=duration, \n",
    "                                 dissipating=False, max_intensity=10,\n",
    "                                 point_radius=0.1)\n",
    "\n",
    "# Add layer\n",
    "fig1.add_layer(heat_layer_duration)\n",
    "\n",
    "# Display figure\n",
    "fig1"
   ]
  },
  {
   "cell_type": "code",
   "execution_count": null,
   "metadata": {},
   "outputs": [],
   "source": []
  }
 ],
 "metadata": {
  "kernelspec": {
   "display_name": "Python [conda env:PythonData] *",
   "language": "python",
   "name": "conda-env-PythonData-py"
  },
  "language_info": {
   "codemirror_mode": {
    "name": "ipython",
    "version": 3
   },
   "file_extension": ".py",
   "mimetype": "text/x-python",
   "name": "python",
   "nbconvert_exporter": "python",
   "pygments_lexer": "ipython3",
   "version": "3.6.8"
  }
 },
 "nbformat": 4,
 "nbformat_minor": 2
}
